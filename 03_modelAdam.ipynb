{
 "cells": [
  {
   "cell_type": "code",
   "execution_count": 1,
   "id": "85bc4896",
   "metadata": {},
   "outputs": [],
   "source": [
    "import pandas as pd\n",
    "import numpy as np\n",
    "import glob, os, cv2\n",
    "from matplotlib import pyplot as plt"
   ]
  },
  {
   "cell_type": "code",
   "execution_count": 2,
   "id": "64b3f2b9",
   "metadata": {},
   "outputs": [],
   "source": [
    "from sklearn import preprocessing\n",
    "from sklearn import model_selection\n",
    "from sklearn import linear_model\n",
    "from sklearn import metrics\n",
    "from sklearn.preprocessing import LabelEncoder\n",
    "from sklearn.metrics import confusion_matrix, classification_report"
   ]
  },
  {
   "cell_type": "code",
   "execution_count": 3,
   "id": "06877062",
   "metadata": {},
   "outputs": [],
   "source": [
    "from keras import backend as K\n",
    "from keras import regularizers\n",
    "from keras.utils.np_utils import to_categorical\n",
    "from keras.models import Sequential,Model,load_model\n",
    "from keras.layers import Dense,Input,Flatten,Dropout,Concatenate,GlobalAveragePooling2D,Lambda,ZeroPadding2D,BatchNormalization,MaxPool2D\n",
    "from keras.layers import SeparableConv2D,BatchNormalization,MaxPooling2D,Conv2D,AveragePooling2D,ReLU\n",
    "from keras.applications.resnet_v2 import ResNet152V2, preprocess_input\n",
    "from keras.callbacks import EarlyStopping,CSVLogger,ReduceLROnPlateau"
   ]
  },
  {
   "cell_type": "code",
   "execution_count": 4,
   "id": "932732da",
   "metadata": {},
   "outputs": [],
   "source": [
    "from tensorflow.keras.losses import CategoricalCrossentropy\n",
    "from tensorflow.keras.optimizers import Adam, RMSprop"
   ]
  },
  {
   "cell_type": "code",
   "execution_count": 5,
   "id": "bf8218aa",
   "metadata": {},
   "outputs": [],
   "source": [
    "RANDOM_STATE = 54\n",
    "DIRECTORY = \"UTKFace/\"\n",
    "NUM_OF_EPOCHES = 30\n",
    "CLASSES = [0,1,2,3,4,5,6]"
   ]
  },
  {
   "cell_type": "code",
   "execution_count": 6,
   "id": "513d52e3",
   "metadata": {},
   "outputs": [],
   "source": [
    "# first number before _ in filenames of images are person's age (in 39_1_20170116174525125.jpg.chip.jpg 39 is the age)\n",
    "# parsing and returning age for each image in directory\n",
    "def parse_filepath(filepath):\n",
    "    try:\n",
    "        path, filename = os.path.split(filepath)\n",
    "        filename, ext = os.path.splitext(filename)\n",
    "        age, gender, race, _ = filename.split(\"_\")\n",
    "        return int(age)\n",
    "    except Exception as e:\n",
    "        print(filepath)\n",
    "        return None"
   ]
  },
  {
   "cell_type": "code",
   "execution_count": 7,
   "id": "9aac2dcf",
   "metadata": {},
   "outputs": [
    {
     "name": "stdout",
     "output_type": "stream",
     "text": [
      "UTKFace\\39_1_20170116174525125.jpg.chip.jpg\n",
      "UTKFace\\61_1_20170109142408075.jpg.chip.jpg\n",
      "UTKFace\\61_1_20170109150557335.jpg.chip.jpg\n"
     ]
    }
   ],
   "source": [
    "files = glob.glob(os.path.join(DIRECTORY, \"*.jpg\"))\n",
    "data = list(map(parse_filepath, files))"
   ]
  },
  {
   "cell_type": "code",
   "execution_count": 8,
   "id": "6c45bc3b",
   "metadata": {
    "scrolled": false
   },
   "outputs": [
    {
     "data": {
      "text/html": [
       "<div>\n",
       "<style scoped>\n",
       "    .dataframe tbody tr th:only-of-type {\n",
       "        vertical-align: middle;\n",
       "    }\n",
       "\n",
       "    .dataframe tbody tr th {\n",
       "        vertical-align: top;\n",
       "    }\n",
       "\n",
       "    .dataframe thead th {\n",
       "        text-align: right;\n",
       "    }\n",
       "</style>\n",
       "<table border=\"1\" class=\"dataframe\">\n",
       "  <thead>\n",
       "    <tr style=\"text-align: right;\">\n",
       "      <th></th>\n",
       "      <th>age</th>\n",
       "      <th>file</th>\n",
       "    </tr>\n",
       "  </thead>\n",
       "  <tbody>\n",
       "    <tr>\n",
       "      <th>2226</th>\n",
       "      <td>1.0</td>\n",
       "      <td>UTKFace\\1_1_0_20161219205534526.jpg.chip.jpg</td>\n",
       "    </tr>\n",
       "    <tr>\n",
       "      <th>2047</th>\n",
       "      <td>1.0</td>\n",
       "      <td>UTKFace\\1_0_3_20161219225723376.jpg.chip.jpg</td>\n",
       "    </tr>\n",
       "    <tr>\n",
       "      <th>2048</th>\n",
       "      <td>1.0</td>\n",
       "      <td>UTKFace\\1_0_3_20161219225759904.jpg.chip.jpg</td>\n",
       "    </tr>\n",
       "    <tr>\n",
       "      <th>2049</th>\n",
       "      <td>1.0</td>\n",
       "      <td>UTKFace\\1_0_3_20161219225808112.jpg.chip.jpg</td>\n",
       "    </tr>\n",
       "    <tr>\n",
       "      <th>2050</th>\n",
       "      <td>1.0</td>\n",
       "      <td>UTKFace\\1_0_3_20161219225811120.jpg.chip.jpg</td>\n",
       "    </tr>\n",
       "  </tbody>\n",
       "</table>\n",
       "</div>"
      ],
      "text/plain": [
       "      age                                          file\n",
       "2226  1.0  UTKFace\\1_1_0_20161219205534526.jpg.chip.jpg\n",
       "2047  1.0  UTKFace\\1_0_3_20161219225723376.jpg.chip.jpg\n",
       "2048  1.0  UTKFace\\1_0_3_20161219225759904.jpg.chip.jpg\n",
       "2049  1.0  UTKFace\\1_0_3_20161219225808112.jpg.chip.jpg\n",
       "2050  1.0  UTKFace\\1_0_3_20161219225811120.jpg.chip.jpg"
      ]
     },
     "execution_count": 8,
     "metadata": {},
     "output_type": "execute_result"
    }
   ],
   "source": [
    "# making data frame with images and ages\n",
    "df = pd.DataFrame(data)\n",
    "df['file'] = files\n",
    "df.columns = ['age', 'file']\n",
    "df = df.sort_values(by=['age'])\n",
    "df = df.dropna()\n",
    "df.head()"
   ]
  },
  {
   "cell_type": "code",
   "execution_count": 9,
   "id": "4a83a299",
   "metadata": {},
   "outputs": [
    {
     "data": {
      "text/plain": [
       "(23705, 2)"
      ]
     },
     "execution_count": 9,
     "metadata": {},
     "output_type": "execute_result"
    }
   ],
   "source": [
    "df.shape"
   ]
  },
  {
   "cell_type": "code",
   "execution_count": 10,
   "id": "55098e02",
   "metadata": {},
   "outputs": [],
   "source": [
    "# grouping age in 7 intervals\n",
    "def class_label(age):\n",
    "    if 1 <= age <= 2:\n",
    "        return 0\n",
    "    elif 3 <= age <= 9:\n",
    "        return 1\n",
    "    elif 10 <= age <= 20:\n",
    "        return 2\n",
    "    elif 21 <= age <= 27:\n",
    "        return 3\n",
    "    elif 28 <= age <= 45:\n",
    "        return 4\n",
    "    elif 46 <= age <= 65:\n",
    "        return 5\n",
    "    else:\n",
    "        return 6"
   ]
  },
  {
   "cell_type": "code",
   "execution_count": 11,
   "id": "fd4dc606",
   "metadata": {},
   "outputs": [],
   "source": [
    "df['target'] = df['age'].map(class_label)"
   ]
  },
  {
   "cell_type": "code",
   "execution_count": 12,
   "id": "8cb3de23",
   "metadata": {},
   "outputs": [
    {
     "data": {
      "text/plain": [
       "array([1605, 1457, 1815, 5572, 7645, 3912, 1699], dtype=int64)"
      ]
     },
     "execution_count": 12,
     "metadata": {},
     "output_type": "execute_result"
    }
   ],
   "source": [
    "k = np.bincount(df['target'])\n",
    "k"
   ]
  },
  {
   "cell_type": "code",
   "execution_count": 13,
   "id": "828c9404",
   "metadata": {},
   "outputs": [],
   "source": [
    "# data is not balanced, so we are undersampling by taking 1600 random instances of the most numerous classes\n",
    "class_3 = df[4878:10449].sample(frac=1)[:1600]\n",
    "class_4 = df[10451:18094].sample(frac=1)[:1600]\n",
    "class_5 = df[18095:22006].sample(frac=1)[:1600]"
   ]
  },
  {
   "cell_type": "code",
   "execution_count": 14,
   "id": "f343a146",
   "metadata": {},
   "outputs": [],
   "source": [
    "# deleting all instances of the most numerous classes\n",
    "df = df.drop(df[df['target']==3].index)\n",
    "df = df.drop(df[df['target']==4].index)\n",
    "df = df.drop(df[df['target']==5].index)"
   ]
  },
  {
   "cell_type": "code",
   "execution_count": 15,
   "id": "351ebbd2",
   "metadata": {},
   "outputs": [],
   "source": [
    "# adding 1600 of each\n",
    "df = pd.concat([df,class_3])\n",
    "df = pd.concat([df,class_4])\n",
    "df = pd.concat([df,class_5])"
   ]
  },
  {
   "cell_type": "code",
   "execution_count": 16,
   "id": "f28929d0",
   "metadata": {},
   "outputs": [
    {
     "data": {
      "text/plain": [
       "array([1605, 1457, 1815, 1600, 1600, 1600, 1699], dtype=int64)"
      ]
     },
     "execution_count": 16,
     "metadata": {},
     "output_type": "execute_result"
    }
   ],
   "source": [
    "k = np.bincount(df['target'])\n",
    "k"
   ]
  },
  {
   "cell_type": "code",
   "execution_count": 17,
   "id": "10068153",
   "metadata": {},
   "outputs": [
    {
     "data": {
      "text/plain": [
       "(11376, 3)"
      ]
     },
     "execution_count": 17,
     "metadata": {},
     "output_type": "execute_result"
    }
   ],
   "source": [
    "df.shape"
   ]
  },
  {
   "cell_type": "code",
   "execution_count": 18,
   "id": "78f6d060",
   "metadata": {},
   "outputs": [],
   "source": [
    "X_files = df['file']\n",
    "y = df['target']\n",
    "X = []"
   ]
  },
  {
   "cell_type": "code",
   "execution_count": 19,
   "id": "4197cf99",
   "metadata": {},
   "outputs": [
    {
     "data": {
      "text/html": [
       "<div>\n",
       "<style scoped>\n",
       "    .dataframe tbody tr th:only-of-type {\n",
       "        vertical-align: middle;\n",
       "    }\n",
       "\n",
       "    .dataframe tbody tr th {\n",
       "        vertical-align: top;\n",
       "    }\n",
       "\n",
       "    .dataframe thead th {\n",
       "        text-align: right;\n",
       "    }\n",
       "</style>\n",
       "<table border=\"1\" class=\"dataframe\">\n",
       "  <thead>\n",
       "    <tr style=\"text-align: right;\">\n",
       "      <th></th>\n",
       "      <th>age</th>\n",
       "      <th>file</th>\n",
       "      <th>target</th>\n",
       "    </tr>\n",
       "  </thead>\n",
       "  <tbody>\n",
       "    <tr>\n",
       "      <th>2226</th>\n",
       "      <td>1.0</td>\n",
       "      <td>UTKFace\\1_1_0_20161219205534526.jpg.chip.jpg</td>\n",
       "      <td>0</td>\n",
       "    </tr>\n",
       "    <tr>\n",
       "      <th>2047</th>\n",
       "      <td>1.0</td>\n",
       "      <td>UTKFace\\1_0_3_20161219225723376.jpg.chip.jpg</td>\n",
       "      <td>0</td>\n",
       "    </tr>\n",
       "    <tr>\n",
       "      <th>2048</th>\n",
       "      <td>1.0</td>\n",
       "      <td>UTKFace\\1_0_3_20161219225759904.jpg.chip.jpg</td>\n",
       "      <td>0</td>\n",
       "    </tr>\n",
       "    <tr>\n",
       "      <th>2049</th>\n",
       "      <td>1.0</td>\n",
       "      <td>UTKFace\\1_0_3_20161219225808112.jpg.chip.jpg</td>\n",
       "      <td>0</td>\n",
       "    </tr>\n",
       "    <tr>\n",
       "      <th>2050</th>\n",
       "      <td>1.0</td>\n",
       "      <td>UTKFace\\1_0_3_20161219225811120.jpg.chip.jpg</td>\n",
       "      <td>0</td>\n",
       "    </tr>\n",
       "  </tbody>\n",
       "</table>\n",
       "</div>"
      ],
      "text/plain": [
       "      age                                          file  target\n",
       "2226  1.0  UTKFace\\1_1_0_20161219205534526.jpg.chip.jpg       0\n",
       "2047  1.0  UTKFace\\1_0_3_20161219225723376.jpg.chip.jpg       0\n",
       "2048  1.0  UTKFace\\1_0_3_20161219225759904.jpg.chip.jpg       0\n",
       "2049  1.0  UTKFace\\1_0_3_20161219225808112.jpg.chip.jpg       0\n",
       "2050  1.0  UTKFace\\1_0_3_20161219225811120.jpg.chip.jpg       0"
      ]
     },
     "execution_count": 19,
     "metadata": {},
     "output_type": "execute_result"
    }
   ],
   "source": [
    "df.head()"
   ]
  },
  {
   "cell_type": "code",
   "execution_count": 20,
   "id": "b37a51f5",
   "metadata": {},
   "outputs": [],
   "source": [
    "for img in X_files:\n",
    "    image = cv2.imread(img, cv2.IMREAD_COLOR)\n",
    "    X.append(np.array(image))"
   ]
  },
  {
   "cell_type": "code",
   "execution_count": 21,
   "id": "fcc58ae5",
   "metadata": {},
   "outputs": [],
   "source": [
    "label_encoder= LabelEncoder()\n",
    "Y = label_encoder.fit_transform(y)\n",
    "Y = to_categorical(Y,7)"
   ]
  },
  {
   "cell_type": "code",
   "execution_count": 22,
   "id": "532c6a3d",
   "metadata": {},
   "outputs": [],
   "source": [
    "X = np.array(X)\n",
    "X = preprocess_input(X)"
   ]
  },
  {
   "cell_type": "code",
   "execution_count": 23,
   "id": "ed93bc8f",
   "metadata": {},
   "outputs": [
    {
     "data": {
      "text/plain": [
       "((11376, 200, 200, 3), (11376, 7))"
      ]
     },
     "execution_count": 23,
     "metadata": {},
     "output_type": "execute_result"
    }
   ],
   "source": [
    "X.shape,Y.shape"
   ]
  },
  {
   "cell_type": "code",
   "execution_count": 24,
   "id": "c017b48b",
   "metadata": {},
   "outputs": [],
   "source": [
    "X_train, X_test, y_train, y_test = model_selection.train_test_split(X, Y, test_size=0.33, stratify=Y, random_state=RANDOM_STATE)"
   ]
  },
  {
   "cell_type": "code",
   "execution_count": 25,
   "id": "160ad8af",
   "metadata": {},
   "outputs": [
    {
     "data": {
      "text/plain": [
       "((7621, 200, 200, 3), (3755, 200, 200, 3), (7621, 7), (3755, 7))"
      ]
     },
     "execution_count": 25,
     "metadata": {},
     "output_type": "execute_result"
    }
   ],
   "source": [
    "X_train.shape, X_test.shape, y_train.shape, y_test.shape"
   ]
  },
  {
   "cell_type": "code",
   "execution_count": 26,
   "id": "bbf600a0",
   "metadata": {},
   "outputs": [
    {
     "data": {
      "image/png": "[encoded data removed]",
      "text/plain": [
       "<Figure size 3960x2160 with 1 Axes>"
      ]
     },
     "metadata": {
      "needs_background": "light"
     },
     "output_type": "display_data"
    }
   ],
   "source": [
    "y_train_cls = np.argmax(y_train, axis = 1)\n",
    "plt.figure(figsize=(55,30))\n",
    "plt.title('Train class distribution', fontsize=65)\n",
    "plt.xlabel('Classes', fontsize=50)\n",
    "plt.ylabel('Number of images', fontsize=50)\n",
    "plt.xticks(fontsize= 20)\n",
    "plt.yticks(fontsize= 40)\n",
    "plt.bar(CLASSES,np.bincount(y_train_cls))\n",
    "plt.show()"
   ]
  },
  {
   "cell_type": "code",
   "execution_count": 27,
   "id": "0a021033",
   "metadata": {},
   "outputs": [],
   "source": [
    "reduce = ReduceLROnPlateau(\n",
    "    monitor='val_loss',\n",
    "    factor=0.2,\n",
    "    patience=5,\n",
    "    min_lr=0.0005,\n",
    "    verbose=1\n",
    ")\n",
    "\n",
    "stop = EarlyStopping(\n",
    "    monitor=\"val_loss\",\n",
    "    patience=4,\n",
    "    verbose=1,\n",
    "    restore_best_weights=False,\n",
    ")\n",
    "\n",
    "callbacks = [reduce, stop]"
   ]
  },
  {
   "cell_type": "code",
   "execution_count": 28,
   "id": "81a9c346",
   "metadata": {},
   "outputs": [
    {
     "name": "stdout",
     "output_type": "stream",
     "text": [
      "Model: \"sequential\"\n",
      "_________________________________________________________________\n",
      " Layer (type)                Output Shape              Param #   \n",
      "=================================================================\n",
      " conv2d (Conv2D)             (None, 40, 40, 16)        1216      \n",
      "                                                                 \n",
      " conv2d_1 (Conv2D)           (None, 8, 8, 32)          4640      \n",
      "                                                                 \n",
      " conv2d_2 (Conv2D)           (None, 2, 2, 64)          18496     \n",
      "                                                                 \n",
      " max_pooling2d (MaxPooling2D  (None, 1, 1, 64)         0         \n",
      " )                                                               \n",
      "                                                                 \n",
      " conv2d_3 (Conv2D)           (None, 1, 1, 128)         73856     \n",
      "                                                                 \n",
      " max_pooling2d_1 (MaxPooling  (None, 1, 1, 128)        0         \n",
      " 2D)                                                             \n",
      "                                                                 \n",
      " conv2d_4 (Conv2D)           (None, 1, 1, 128)         147584    \n",
      "                                                                 \n",
      " max_pooling2d_2 (MaxPooling  (None, 1, 1, 128)        0         \n",
      " 2D)                                                             \n",
      "                                                                 \n",
      " global_average_pooling2d (G  (None, 128)              0         \n",
      " lobalAveragePooling2D)                                          \n",
      "                                                                 \n",
      " dense (Dense)               (None, 1024)              132096    \n",
      "                                                                 \n",
      " dropout (Dropout)           (None, 1024)              0         \n",
      "                                                                 \n",
      " dense_1 (Dense)             (None, 7)                 7175      \n",
      "                                                                 \n",
      "=================================================================\n",
      "Total params: 385,063\n",
      "Trainable params: 385,063\n",
      "Non-trainable params: 0\n",
      "_________________________________________________________________\n"
     ]
    }
   ],
   "source": [
    "model = Sequential([\n",
    "\n",
    "Conv2D(filters=16, kernel_size=(5,5), strides=(5,5), activation='relu', input_shape=(200, 200, 3)),\n",
    "Conv2D(filters=32, kernel_size=(3,3), strides=(5,5), activation='relu'),\n",
    "Conv2D(filters=64, kernel_size=(3,3), strides=(5,5), activation='relu', padding='same'),\n",
    "MaxPool2D(pool_size=(3,3), padding='same'),\n",
    "Conv2D(filters=128, kernel_size=(3,3), strides=(5,5), activation='relu', padding='same'),\n",
    "MaxPool2D(pool_size=(3,3), padding='same'),\n",
    "Conv2D(filters=128, kernel_size=(3,3), strides=(5,5), activation='relu', padding='same'),\n",
    "MaxPool2D(pool_size=(3,3), padding='same'),\n",
    "GlobalAveragePooling2D(),\n",
    "Dense(1024, activation='relu'),\n",
    "Dropout(0.3),\n",
    "Dense(7, activation='softmax')\n",
    "          ])\n",
    "model.summary()"
   ]
  },
  {
   "cell_type": "code",
   "execution_count": 29,
   "id": "e270e4fe",
   "metadata": {},
   "outputs": [
    {
     "name": "stdout",
     "output_type": "stream",
     "text": [
      "Epoch 1/30\n",
      "191/191 [==============================] - 18s 82ms/step - loss: 1.7866 - accuracy: 0.2459 - val_loss: 1.7046 - val_accuracy: 0.2603\n",
      "Epoch 2/30\n",
      "191/191 [==============================] - 5s 28ms/step - loss: 1.5863 - accuracy: 0.3410 - val_loss: 1.5590 - val_accuracy: 0.3430\n",
      "Epoch 3/30\n",
      "191/191 [==============================] - 5s 27ms/step - loss: 1.4317 - accuracy: 0.3952 - val_loss: 1.3744 - val_accuracy: 0.4000\n",
      "Epoch 4/30\n",
      "191/191 [==============================] - 5s 26ms/step - loss: 1.3309 - accuracy: 0.4421 - val_loss: 1.3469 - val_accuracy: 0.4184\n",
      "Epoch 5/30\n",
      "191/191 [==============================] - 5s 26ms/step - loss: 1.2450 - accuracy: 0.4864 - val_loss: 1.3461 - val_accuracy: 0.4308\n",
      "Epoch 6/30\n",
      "191/191 [==============================] - 5s 27ms/step - loss: 1.1712 - accuracy: 0.5184 - val_loss: 1.2992 - val_accuracy: 0.4636\n",
      "Epoch 7/30\n",
      "191/191 [==============================] - 5s 28ms/step - loss: 1.1191 - accuracy: 0.5387 - val_loss: 1.2949 - val_accuracy: 0.4800\n",
      "Epoch 8/30\n",
      "191/191 [==============================] - 5s 27ms/step - loss: 1.0597 - accuracy: 0.5636 - val_loss: 1.2635 - val_accuracy: 0.4636\n",
      "Epoch 9/30\n",
      "191/191 [==============================] - 5s 27ms/step - loss: 0.9928 - accuracy: 0.5969 - val_loss: 1.3514 - val_accuracy: 0.4807\n",
      "Epoch 10/30\n",
      "191/191 [==============================] - 5s 25ms/step - loss: 0.9540 - accuracy: 0.6140 - val_loss: 1.3653 - val_accuracy: 0.4630\n",
      "Epoch 11/30\n",
      "191/191 [==============================] - 5s 24ms/step - loss: 0.8833 - accuracy: 0.6376 - val_loss: 1.3251 - val_accuracy: 0.4734\n",
      "Epoch 12/30\n",
      "191/191 [==============================] - 5s 24ms/step - loss: 0.8401 - accuracy: 0.6614 - val_loss: 1.4109 - val_accuracy: 0.4689\n",
      "Epoch 13/30\n",
      "191/191 [==============================] - 5s 24ms/step - loss: 0.7908 - accuracy: 0.6844 - val_loss: 1.5816 - val_accuracy: 0.4446\n",
      "Epoch 14/30\n",
      "191/191 [==============================] - 5s 24ms/step - loss: 0.7376 - accuracy: 0.7054 - val_loss: 1.7848 - val_accuracy: 0.4721\n",
      "Epoch 15/30\n",
      "191/191 [==============================] - 5s 24ms/step - loss: 0.6911 - accuracy: 0.7270 - val_loss: 1.6888 - val_accuracy: 0.4761\n",
      "Epoch 16/30\n",
      "191/191 [==============================] - 5s 24ms/step - loss: 0.6477 - accuracy: 0.7426 - val_loss: 1.7679 - val_accuracy: 0.4682\n",
      "Epoch 17/30\n",
      "191/191 [==============================] - 4s 23ms/step - loss: 0.6019 - accuracy: 0.7623 - val_loss: 1.8496 - val_accuracy: 0.4728\n",
      "Epoch 18/30\n",
      "191/191 [==============================] - 4s 23ms/step - loss: 0.5720 - accuracy: 0.7771 - val_loss: 1.7657 - val_accuracy: 0.4721\n",
      "Epoch 19/30\n",
      "191/191 [==============================] - 5s 24ms/step - loss: 0.5173 - accuracy: 0.8013 - val_loss: 2.1038 - val_accuracy: 0.4505\n",
      "Epoch 20/30\n",
      "191/191 [==============================] - 5s 24ms/step - loss: 0.5021 - accuracy: 0.8094 - val_loss: 1.9830 - val_accuracy: 0.4630\n",
      "Epoch 21/30\n",
      "191/191 [==============================] - 4s 23ms/step - loss: 0.4628 - accuracy: 0.8243 - val_loss: 1.9981 - val_accuracy: 0.4754\n",
      "Epoch 22/30\n",
      "191/191 [==============================] - 4s 23ms/step - loss: 0.4218 - accuracy: 0.8391 - val_loss: 2.2636 - val_accuracy: 0.4721\n",
      "Epoch 23/30\n",
      "191/191 [==============================] - 5s 25ms/step - loss: 0.4192 - accuracy: 0.8451 - val_loss: 2.4371 - val_accuracy: 0.4649\n",
      "Epoch 24/30\n",
      "191/191 [==============================] - 5s 27ms/step - loss: 0.3773 - accuracy: 0.8571 - val_loss: 2.3374 - val_accuracy: 0.4518\n",
      "Epoch 25/30\n",
      "191/191 [==============================] - 5s 24ms/step - loss: 0.3464 - accuracy: 0.8770 - val_loss: 2.4630 - val_accuracy: 0.4643\n",
      "Epoch 26/30\n",
      "191/191 [==============================] - 4s 23ms/step - loss: 0.3287 - accuracy: 0.8760 - val_loss: 2.6109 - val_accuracy: 0.4630\n",
      "Epoch 27/30\n",
      "191/191 [==============================] - 4s 23ms/step - loss: 0.2769 - accuracy: 0.8967 - val_loss: 2.8609 - val_accuracy: 0.4577\n",
      "Epoch 28/30\n",
      "191/191 [==============================] - 5s 24ms/step - loss: 0.2787 - accuracy: 0.8970 - val_loss: 2.6873 - val_accuracy: 0.4459\n",
      "Epoch 29/30\n",
      "191/191 [==============================] - 5s 24ms/step - loss: 0.2939 - accuracy: 0.8916 - val_loss: 2.8020 - val_accuracy: 0.4570\n",
      "Epoch 30/30\n",
      "191/191 [==============================] - 4s 23ms/step - loss: 0.2402 - accuracy: 0.9101 - val_loss: 2.9474 - val_accuracy: 0.4328\n"
     ]
    }
   ],
   "source": [
    "model.compile(loss=CategoricalCrossentropy(), optimizer=Adam(learning_rate=0.001), metrics=['accuracy'])\n",
    "\n",
    "history = model.fit(X_train, y_train,\n",
    "                    epochs = NUM_OF_EPOCHES,\n",
    "                    verbose = 1,\n",
    "                    validation_split=0.2\n",
    "                    )"
   ]
  },
  {
   "cell_type": "code",
   "execution_count": 33,
   "id": "614416dd",
   "metadata": {},
   "outputs": [],
   "source": [
    "def plot_acc_loss(history, num_of_epochs):\n",
    "    plt.figure(figsize=(10, 4))\n",
    "\n",
    "    plt.subplot(1, 2, 1)\n",
    "    plt.title('Loss')\n",
    "    plt.plot(np.arange(0, num_of_epochs), history.history['loss'], label='train')\n",
    "    plt.plot(np.arange(0, num_of_epochs), history.history['val_loss'], label='val')\n",
    "    plt.legend(loc='best')\n",
    "\n",
    "    plt.subplot(1, 2, 2)\n",
    "    plt.title('Accuracy')\n",
    "    plt.plot(np.arange(0, num_of_epochs), history.history['accuracy'], label='train')\n",
    "    plt.plot(np.arange(0, num_of_epochs), history.history['val_accuracy'], label='val')\n",
    "    plt.legend(loc='best')\n",
    "\n",
    "    plt.show()"
   ]
  },
  {
   "cell_type": "code",
   "execution_count": 34,
   "id": "62da57a4",
   "metadata": {},
   "outputs": [],
   "source": [
    "def evaluate_model(model,x_test,y_test,classes_names,conf_matrix_name):\n",
    "    score = model.evaluate(x_test, y_test, verbose=1)\n",
    "    print('Test loss:', score[0])\n",
    "    print('Test accuracy:', score[1])\n",
    "    \n",
    "    y_predicted = model.predict(x_test)\n",
    "    y_predicted_classes = np.argmax(y_predicted, axis = 1)\n",
    "    y_test_classes = np.argmax(y_test, axis = 1)\n",
    "    \n",
    "    conf_mat = confusion_matrix(y_test_classes, y_predicted_classes)\n",
    "    print(conf_mat)\n",
    "    \n",
    "    report = classification_report(y_test_classes, y_predicted_classes)\n",
    "    print(report)\n",
    "    \n",
    "    \n",
    "    y_predicted_classes.shape, y_test_classes.shape"
   ]
  },
  {
   "cell_type": "code",
   "execution_count": 35,
   "id": "d40f24f4",
   "metadata": {},
   "outputs": [
    {
     "data": {
      "image/png": "[encoded data removed]",
      "text/plain": [
       "<Figure size 720x288 with 2 Axes>"
      ]
     },
     "metadata": {
      "needs_background": "light"
     },
     "output_type": "display_data"
    }
   ],
   "source": [
    "plot_acc_loss(history, NUM_OF_EPOCHES)"
   ]
  },
  {
   "cell_type": "code",
   "execution_count": 36,
   "id": "9ad38a62",
   "metadata": {},
   "outputs": [
    {
     "name": "stdout",
     "output_type": "stream",
     "text": [
      "239/239 [==============================] - 2s 9ms/step - loss: 0.7935 - accuracy: 0.8137\n",
      "Test loss: 0.7934969067573547\n",
      "Test accuracy: 0.8136727213859558\n",
      "239/239 [==============================] - 2s 9ms/step\n",
      "[[1006   45    5    5    2    7    5]\n",
      " [  39  823   76   12    6   13    7]\n",
      " [   4   59  944   79   95   28    7]\n",
      " [   1    7   42  795  200   21    6]\n",
      " [   3    5   25   51  827  153    8]\n",
      " [   0    9   10   10   57  944   42]\n",
      " [   4    9   12    5   17  229  862]]\n",
      "              precision    recall  f1-score   support\n",
      "\n",
      "           0       0.95      0.94      0.94      1075\n",
      "           1       0.86      0.84      0.85       976\n",
      "           2       0.85      0.78      0.81      1216\n",
      "           3       0.83      0.74      0.78      1072\n",
      "           4       0.69      0.77      0.73      1072\n",
      "           5       0.68      0.88      0.77      1072\n",
      "           6       0.92      0.76      0.83      1138\n",
      "\n",
      "    accuracy                           0.81      7621\n",
      "   macro avg       0.82      0.82      0.82      7621\n",
      "weighted avg       0.83      0.81      0.82      7621\n",
      "\n"
     ]
    }
   ],
   "source": [
    "evaluate_model(model, X_train, y_train, CLASSES, \"model_train_evaluation\")"
   ]
  },
  {
   "cell_type": "code",
   "execution_count": 37,
   "id": "ce329ea0",
   "metadata": {},
   "outputs": [
    {
     "name": "stdout",
     "output_type": "stream",
     "text": [
      "118/118 [==============================] - 4s 30ms/step - loss: 3.0410 - accuracy: 0.4386\n",
      "Test loss: 3.0410263538360596\n",
      "Test accuracy: 0.43861517310142517\n",
      "118/118 [==============================] - 1s 10ms/step\n",
      "[[372 118  10   5   6   4  15]\n",
      " [ 67 222 115  15  19  24  19]\n",
      " [  8  63 207 113 125  66  17]\n",
      " [  6  21  79 146 187  67  22]\n",
      " [  2  20  70  84 201 124  27]\n",
      " [  2  16  36  27 104 277  66]\n",
      " [ 12  24  19  11  48 225 222]]\n",
      "              precision    recall  f1-score   support\n",
      "\n",
      "           0       0.79      0.70      0.74       530\n",
      "           1       0.46      0.46      0.46       481\n",
      "           2       0.39      0.35      0.36       599\n",
      "           3       0.36      0.28      0.31       528\n",
      "           4       0.29      0.38      0.33       528\n",
      "           5       0.35      0.52      0.42       528\n",
      "           6       0.57      0.40      0.47       561\n",
      "\n",
      "    accuracy                           0.44      3755\n",
      "   macro avg       0.46      0.44      0.44      3755\n",
      "weighted avg       0.46      0.44      0.44      3755\n",
      "\n"
     ]
    }
   ],
   "source": [
    "evaluate_model(model, X_test, y_test, CLASSES, \"model_test_evaluation\")"
   ]
  },
  {
   "cell_type": "code",
   "execution_count": 38,
   "id": "57272cc6",
   "metadata": {},
   "outputs": [
    {
     "name": "stderr",
     "output_type": "stream",
     "text": [
      "WARNING:absl:Found untraced functions such as _jit_compiled_convolution_op, _jit_compiled_convolution_op, _jit_compiled_convolution_op, _jit_compiled_convolution_op, _jit_compiled_convolution_op while saving (showing 5 of 5). These functions will not be directly callable after loading.\n"
     ]
    },
    {
     "name": "stdout",
     "output_type": "stream",
     "text": [
      "INFO:tensorflow:Assets written to: models/model_with_Adam\\assets\n"
     ]
    },
    {
     "name": "stderr",
     "output_type": "stream",
     "text": [
      "INFO:tensorflow:Assets written to: models/model_with_Adam\\assets\n"
     ]
    }
   ],
   "source": [
    "model.save('models/model_with_Adam')"
   ]
  },
  {
   "cell_type": "code",
   "execution_count": null,
   "id": "4b1a20a9",
   "metadata": {},
   "outputs": [],
   "source": []
  }
 ],
 "metadata": {
  "kernelspec": {
   "display_name": "Python 3 (ipykernel)",
   "language": "python",
   "name": "python3"
  },
  "language_info": {
   "codemirror_mode": {
    "name": "ipython",
    "version": 3
   },
   "file_extension": ".py",
   "mimetype": "text/x-python",
   "name": "python",
   "nbconvert_exporter": "python",
   "pygments_lexer": "ipython3",
   "version": "3.8.13"
  }
 },
 "nbformat": 4,
 "nbformat_minor": 5
}
