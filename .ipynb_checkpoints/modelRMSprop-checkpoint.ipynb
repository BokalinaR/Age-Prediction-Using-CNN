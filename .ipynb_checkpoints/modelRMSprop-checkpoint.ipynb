{
 "cells": [
  {
   "cell_type": "code",
   "execution_count": 1,
   "id": "85bc4896",
   "metadata": {},
   "outputs": [],
   "source": [
    "import pandas as pd\n",
    "import numpy as np\n",
    "import glob, os, cv2\n",
    "from matplotlib import pyplot as plt"
   ]
  },
  {
   "cell_type": "code",
   "execution_count": 2,
   "id": "64b3f2b9",
   "metadata": {},
   "outputs": [],
   "source": [
    "from sklearn import preprocessing\n",
    "from sklearn import model_selection\n",
    "from sklearn import linear_model\n",
    "from sklearn import metrics\n",
    "from sklearn.preprocessing import LabelEncoder\n",
    "from sklearn.metrics import confusion_matrix, classification_report"
   ]
  },
  {
   "cell_type": "code",
   "execution_count": 3,
   "id": "06877062",
   "metadata": {},
   "outputs": [
    {
     "name": "stderr",
     "output_type": "stream",
     "text": [
      "2022-09-01 18:58:50.726336: W tensorflow/stream_executor/platform/default/dso_loader.cc:64] Could not load dynamic library 'libcudart.so.11.0'; dlerror: libcudart.so.11.0: cannot open shared object file: No such file or directory; LD_LIBRARY_PATH: /home/rtrk/.local/lib/python3.8/site-packages/cv2/../../lib64:/opt/ros/noetic/lib\n",
      "2022-09-01 18:58:50.726354: I tensorflow/stream_executor/cuda/cudart_stub.cc:29] Ignore above cudart dlerror if you do not have a GPU set up on your machine.\n"
     ]
    }
   ],
   "source": [
    "from keras import backend as K\n",
    "from keras import regularizers\n",
    "from keras.utils.np_utils import to_categorical\n",
    "from keras.models import Sequential,Model,load_model\n",
    "from keras.layers import Dense,Input,Flatten,Dropout,Concatenate,GlobalAveragePooling2D,Lambda,ZeroPadding2D,BatchNormalization,MaxPool2D\n",
    "from keras.layers import SeparableConv2D,BatchNormalization,MaxPooling2D,Conv2D,AveragePooling2D,ReLU\n",
    "from keras.applications.resnet_v2 import ResNet152V2, preprocess_input\n",
    "from keras.callbacks import EarlyStopping,CSVLogger,ReduceLROnPlateau"
   ]
  },
  {
   "cell_type": "code",
   "execution_count": 4,
   "id": "932732da",
   "metadata": {},
   "outputs": [],
   "source": [
    "from tensorflow.keras.losses import CategoricalCrossentropy\n",
    "from tensorflow.keras.optimizers import Adam, RMSprop"
   ]
  },
  {
   "cell_type": "code",
   "execution_count": 5,
   "id": "bf8218aa",
   "metadata": {},
   "outputs": [],
   "source": [
    "RANDOM_STATE = 54\n",
    "DIRECTORY = \"UTKFace/\"\n",
    "NUM_OF_EPOCHES = 30\n",
    "CLASSES = [0,1,2,3,4,5,6]"
   ]
  },
  {
   "cell_type": "code",
   "execution_count": 6,
   "id": "513d52e3",
   "metadata": {},
   "outputs": [],
   "source": [
    "# first number before _ in filenames of images are person's age (in 39_1_20170116174525125.jpg.chip.jpg 39 is the age)\n",
    "# parsing and returning age for each image in directory\n",
    "def parse_filepath(filepath):\n",
    "    try:\n",
    "        path, filename = os.path.split(filepath)\n",
    "        filename, ext = os.path.splitext(filename)\n",
    "        age, gender, race, _ = filename.split(\"_\")\n",
    "        return int(age)\n",
    "    except Exception as e:\n",
    "        print(filepath)\n",
    "        return None"
   ]
  },
  {
   "cell_type": "code",
   "execution_count": 7,
   "id": "9aac2dcf",
   "metadata": {},
   "outputs": [
    {
     "name": "stdout",
     "output_type": "stream",
     "text": [
      "UTKFace/39_1_20170116174525125.jpg.chip.jpg\n",
      "UTKFace/61_1_20170109150557335.jpg.chip.jpg\n",
      "UTKFace/61_1_20170109142408075.jpg.chip.jpg\n"
     ]
    }
   ],
   "source": [
    "files = glob.glob(os.path.join(DIRECTORY, \"*.jpg\"))\n",
    "data = list(map(parse_filepath, files))"
   ]
  },
  {
   "cell_type": "code",
   "execution_count": 8,
   "id": "6c45bc3b",
   "metadata": {
    "scrolled": false
   },
   "outputs": [
    {
     "data": {
      "text/html": [
       "<div>\n",
       "<style scoped>\n",
       "    .dataframe tbody tr th:only-of-type {\n",
       "        vertical-align: middle;\n",
       "    }\n",
       "\n",
       "    .dataframe tbody tr th {\n",
       "        vertical-align: top;\n",
       "    }\n",
       "\n",
       "    .dataframe thead th {\n",
       "        text-align: right;\n",
       "    }\n",
       "</style>\n",
       "<table border=\"1\" class=\"dataframe\">\n",
       "  <thead>\n",
       "    <tr style=\"text-align: right;\">\n",
       "      <th></th>\n",
       "      <th>age</th>\n",
       "      <th>file</th>\n",
       "    </tr>\n",
       "  </thead>\n",
       "  <tbody>\n",
       "    <tr>\n",
       "      <th>2158</th>\n",
       "      <td>1.0</td>\n",
       "      <td>UTKFace/1_1_2_20161219210955701.jpg.chip.jpg</td>\n",
       "    </tr>\n",
       "    <tr>\n",
       "      <th>20345</th>\n",
       "      <td>1.0</td>\n",
       "      <td>UTKFace/1_0_0_20161219200338012.jpg.chip.jpg</td>\n",
       "    </tr>\n",
       "    <tr>\n",
       "      <th>21263</th>\n",
       "      <td>1.0</td>\n",
       "      <td>UTKFace/1_1_0_20170109192728714.jpg.chip.jpg</td>\n",
       "    </tr>\n",
       "    <tr>\n",
       "      <th>16335</th>\n",
       "      <td>1.0</td>\n",
       "      <td>UTKFace/1_0_1_20170110213808936.jpg.chip.jpg</td>\n",
       "    </tr>\n",
       "    <tr>\n",
       "      <th>15811</th>\n",
       "      <td>1.0</td>\n",
       "      <td>UTKFace/1_0_3_20161219225723376.jpg.chip.jpg</td>\n",
       "    </tr>\n",
       "  </tbody>\n",
       "</table>\n",
       "</div>"
      ],
      "text/plain": [
       "       age                                          file\n",
       "2158   1.0  UTKFace/1_1_2_20161219210955701.jpg.chip.jpg\n",
       "20345  1.0  UTKFace/1_0_0_20161219200338012.jpg.chip.jpg\n",
       "21263  1.0  UTKFace/1_1_0_20170109192728714.jpg.chip.jpg\n",
       "16335  1.0  UTKFace/1_0_1_20170110213808936.jpg.chip.jpg\n",
       "15811  1.0  UTKFace/1_0_3_20161219225723376.jpg.chip.jpg"
      ]
     },
     "execution_count": 8,
     "metadata": {},
     "output_type": "execute_result"
    }
   ],
   "source": [
    "# making data frame with images and ages\n",
    "df = pd.DataFrame(data)\n",
    "df['file'] = files\n",
    "df.columns = ['age', 'file']\n",
    "df = df.sort_values(by=['age'])\n",
    "df = df.dropna()\n",
    "df.head()"
   ]
  },
  {
   "cell_type": "code",
   "execution_count": 9,
   "id": "4a83a299",
   "metadata": {},
   "outputs": [
    {
     "data": {
      "text/plain": [
       "(23705, 2)"
      ]
     },
     "execution_count": 9,
     "metadata": {},
     "output_type": "execute_result"
    }
   ],
   "source": [
    "df.shape"
   ]
  },
  {
   "cell_type": "code",
   "execution_count": 10,
   "id": "55098e02",
   "metadata": {},
   "outputs": [],
   "source": [
    "# grouping age in 7 intervals\n",
    "def class_label(age):\n",
    "    if 1 <= age <= 2:\n",
    "        return 0\n",
    "    elif 3 <= age <= 9:\n",
    "        return 1\n",
    "    elif 10 <= age <= 20:\n",
    "        return 2\n",
    "    elif 21 <= age <= 27:\n",
    "        return 3\n",
    "    elif 28 <= age <= 45:\n",
    "        return 4\n",
    "    elif 46 <= age <= 65:\n",
    "        return 5\n",
    "    else:\n",
    "        return 6"
   ]
  },
  {
   "cell_type": "code",
   "execution_count": 11,
   "id": "fd4dc606",
   "metadata": {},
   "outputs": [],
   "source": [
    "df['target'] = df['age'].map(class_label)"
   ]
  },
  {
   "cell_type": "code",
   "execution_count": 12,
   "id": "8cb3de23",
   "metadata": {},
   "outputs": [
    {
     "data": {
      "text/plain": [
       "array([1605, 1457, 1815, 5572, 7645, 3912, 1699])"
      ]
     },
     "execution_count": 12,
     "metadata": {},
     "output_type": "execute_result"
    }
   ],
   "source": [
    "k = np.bincount(df['target'])\n",
    "k"
   ]
  },
  {
   "cell_type": "code",
   "execution_count": 13,
   "id": "828c9404",
   "metadata": {},
   "outputs": [],
   "source": [
    "# data is not balanced, so we are undersampling by taking 1600 random instances of the most numerous classes\n",
    "class_3 = df[4878:10449].sample(frac=1)[:1600]\n",
    "class_4 = df[10451:18094].sample(frac=1)[:1600]\n",
    "class_5 = df[18095:22006].sample(frac=1)[:1600]"
   ]
  },
  {
   "cell_type": "code",
   "execution_count": 14,
   "id": "f343a146",
   "metadata": {},
   "outputs": [],
   "source": [
    "# deleting all instances of the most numerous classes\n",
    "df = df.drop(df[df['target']==3].index)\n",
    "df = df.drop(df[df['target']==4].index)\n",
    "df = df.drop(df[df['target']==5].index)"
   ]
  },
  {
   "cell_type": "code",
   "execution_count": 15,
   "id": "351ebbd2",
   "metadata": {},
   "outputs": [],
   "source": [
    "# adding 1600 of each\n",
    "df = pd.concat([df,class_3])\n",
    "df = pd.concat([df,class_4])\n",
    "df = pd.concat([df,class_5])"
   ]
  },
  {
   "cell_type": "code",
   "execution_count": 16,
   "id": "f28929d0",
   "metadata": {},
   "outputs": [
    {
     "data": {
      "text/plain": [
       "array([1605, 1457, 1815, 1600, 1600, 1600, 1699])"
      ]
     },
     "execution_count": 16,
     "metadata": {},
     "output_type": "execute_result"
    }
   ],
   "source": [
    "k = np.bincount(df['target'])\n",
    "k"
   ]
  },
  {
   "cell_type": "code",
   "execution_count": 17,
   "id": "10068153",
   "metadata": {},
   "outputs": [
    {
     "data": {
      "text/plain": [
       "(11376, 3)"
      ]
     },
     "execution_count": 17,
     "metadata": {},
     "output_type": "execute_result"
    }
   ],
   "source": [
    "df.shape"
   ]
  },
  {
   "cell_type": "code",
   "execution_count": 18,
   "id": "78f6d060",
   "metadata": {},
   "outputs": [],
   "source": [
    "X_files = df['file']\n",
    "y = df['target']\n",
    "X = []"
   ]
  },
  {
   "cell_type": "code",
   "execution_count": 19,
   "id": "4197cf99",
   "metadata": {},
   "outputs": [
    {
     "data": {
      "text/html": [
       "<div>\n",
       "<style scoped>\n",
       "    .dataframe tbody tr th:only-of-type {\n",
       "        vertical-align: middle;\n",
       "    }\n",
       "\n",
       "    .dataframe tbody tr th {\n",
       "        vertical-align: top;\n",
       "    }\n",
       "\n",
       "    .dataframe thead th {\n",
       "        text-align: right;\n",
       "    }\n",
       "</style>\n",
       "<table border=\"1\" class=\"dataframe\">\n",
       "  <thead>\n",
       "    <tr style=\"text-align: right;\">\n",
       "      <th></th>\n",
       "      <th>age</th>\n",
       "      <th>file</th>\n",
       "      <th>target</th>\n",
       "    </tr>\n",
       "  </thead>\n",
       "  <tbody>\n",
       "    <tr>\n",
       "      <th>2158</th>\n",
       "      <td>1.0</td>\n",
       "      <td>UTKFace/1_1_2_20161219210955701.jpg.chip.jpg</td>\n",
       "      <td>0</td>\n",
       "    </tr>\n",
       "    <tr>\n",
       "      <th>20345</th>\n",
       "      <td>1.0</td>\n",
       "      <td>UTKFace/1_0_0_20161219200338012.jpg.chip.jpg</td>\n",
       "      <td>0</td>\n",
       "    </tr>\n",
       "    <tr>\n",
       "      <th>21263</th>\n",
       "      <td>1.0</td>\n",
       "      <td>UTKFace/1_1_0_20170109192728714.jpg.chip.jpg</td>\n",
       "      <td>0</td>\n",
       "    </tr>\n",
       "    <tr>\n",
       "      <th>16335</th>\n",
       "      <td>1.0</td>\n",
       "      <td>UTKFace/1_0_1_20170110213808936.jpg.chip.jpg</td>\n",
       "      <td>0</td>\n",
       "    </tr>\n",
       "    <tr>\n",
       "      <th>15811</th>\n",
       "      <td>1.0</td>\n",
       "      <td>UTKFace/1_0_3_20161219225723376.jpg.chip.jpg</td>\n",
       "      <td>0</td>\n",
       "    </tr>\n",
       "  </tbody>\n",
       "</table>\n",
       "</div>"
      ],
      "text/plain": [
       "       age                                          file  target\n",
       "2158   1.0  UTKFace/1_1_2_20161219210955701.jpg.chip.jpg       0\n",
       "20345  1.0  UTKFace/1_0_0_20161219200338012.jpg.chip.jpg       0\n",
       "21263  1.0  UTKFace/1_1_0_20170109192728714.jpg.chip.jpg       0\n",
       "16335  1.0  UTKFace/1_0_1_20170110213808936.jpg.chip.jpg       0\n",
       "15811  1.0  UTKFace/1_0_3_20161219225723376.jpg.chip.jpg       0"
      ]
     },
     "execution_count": 19,
     "metadata": {},
     "output_type": "execute_result"
    }
   ],
   "source": [
    "df.head()"
   ]
  },
  {
   "cell_type": "code",
   "execution_count": 20,
   "id": "b37a51f5",
   "metadata": {},
   "outputs": [],
   "source": [
    "for img in X_files:\n",
    "    image = cv2.imread(img, cv2.IMREAD_COLOR)\n",
    "    X.append(np.array(image))"
   ]
  },
  {
   "cell_type": "code",
   "execution_count": 21,
   "id": "fcc58ae5",
   "metadata": {},
   "outputs": [],
   "source": [
    "label_encoder= LabelEncoder()\n",
    "Y = label_encoder.fit_transform(y)\n",
    "Y = to_categorical(Y,7)"
   ]
  },
  {
   "cell_type": "code",
   "execution_count": 22,
   "id": "532c6a3d",
   "metadata": {},
   "outputs": [],
   "source": [
    "X = np.array(X)\n",
    "X = preprocess_input(X)"
   ]
  },
  {
   "cell_type": "code",
   "execution_count": 23,
   "id": "ed93bc8f",
   "metadata": {},
   "outputs": [
    {
     "data": {
      "text/plain": [
       "((11376, 200, 200, 3), (11376, 7))"
      ]
     },
     "execution_count": 23,
     "metadata": {},
     "output_type": "execute_result"
    }
   ],
   "source": [
    "X.shape,Y.shape"
   ]
  },
  {
   "cell_type": "code",
   "execution_count": 24,
   "id": "c017b48b",
   "metadata": {},
   "outputs": [],
   "source": [
    "X_train, X_test, y_train, y_test = model_selection.train_test_split(X, Y, test_size=0.33, stratify=Y, random_state=RANDOM_STATE)"
   ]
  },
  {
   "cell_type": "code",
   "execution_count": 25,
   "id": "160ad8af",
   "metadata": {},
   "outputs": [
    {
     "data": {
      "text/plain": [
       "((7621, 200, 200, 3), (3755, 200, 200, 3), (7621, 7), (3755, 7))"
      ]
     },
     "execution_count": 25,
     "metadata": {},
     "output_type": "execute_result"
    }
   ],
   "source": [
    "X_train.shape, X_test.shape, y_train.shape, y_test.shape"
   ]
  },
  {
   "cell_type": "code",
   "execution_count": null,
   "id": "bbf600a0",
   "metadata": {},
   "outputs": [],
   "source": [
    "y_train_cls = np.argmax(y_train, axis = 1)\n",
    "plt.figure(figsize=(55,30))\n",
    "plt.title('Train class distribution', fontsize=65)\n",
    "plt.xlabel('Classes', fontsize=50)\n",
    "plt.ylabel('Number of images', fontsize=50)\n",
    "plt.xticks(fontsize= 20)\n",
    "plt.yticks(fontsize= 40)\n",
    "plt.bar(CLASSES,np.bincount(y_train_cls))\n",
    "plt.show()"
   ]
  },
  {
   "cell_type": "code",
   "execution_count": 27,
   "id": "0a021033",
   "metadata": {},
   "outputs": [],
   "source": [
    "reduce = ReduceLROnPlateau(\n",
    "    monitor='val_loss',\n",
    "    factor=0.2,\n",
    "    patience=5,\n",
    "    min_lr=0.0005,\n",
    "    verbose=1\n",
    ")\n",
    "\n",
    "stop = EarlyStopping(\n",
    "    monitor=\"val_loss\",\n",
    "    patience=4,\n",
    "    verbose=1,\n",
    "    restore_best_weights=False,\n",
    ")\n",
    "\n",
    "callbacks = [reduce, stop]"
   ]
  },
  {
   "cell_type": "code",
   "execution_count": 28,
   "id": "81a9c346",
   "metadata": {},
   "outputs": [
    {
     "name": "stdout",
     "output_type": "stream",
     "text": [
      "Model: \"sequential\"\n",
      "_________________________________________________________________\n",
      " Layer (type)                Output Shape              Param #   \n",
      "=================================================================\n",
      " conv2d (Conv2D)             (None, 196, 196, 16)      1216      \n",
      "                                                                 \n",
      " conv2d_1 (Conv2D)           (None, 194, 194, 32)      4640      \n",
      "                                                                 \n",
      " conv2d_2 (Conv2D)           (None, 192, 192, 64)      18496     \n",
      "                                                                 \n",
      " max_pooling2d (MaxPooling2D  (None, 64, 64, 64)       0         \n",
      " )                                                               \n",
      "                                                                 \n",
      " conv2d_3 (Conv2D)           (None, 62, 62, 128)       73856     \n",
      "                                                                 \n",
      " max_pooling2d_1 (MaxPooling  (None, 20, 20, 128)      0         \n",
      " 2D)                                                             \n",
      "                                                                 \n",
      " conv2d_4 (Conv2D)           (None, 18, 18, 128)       147584    \n",
      "                                                                 \n",
      " max_pooling2d_2 (MaxPooling  (None, 6, 6, 128)        0         \n",
      " 2D)                                                             \n",
      "                                                                 \n",
      " global_average_pooling2d (G  (None, 128)              0         \n",
      " lobalAveragePooling2D)                                          \n",
      "                                                                 \n",
      " dense (Dense)               (None, 1024)              132096    \n",
      "                                                                 \n",
      " dropout (Dropout)           (None, 1024)              0         \n",
      "                                                                 \n",
      " dense_1 (Dense)             (None, 7)                 7175      \n",
      "                                                                 \n",
      "=================================================================\n",
      "Total params: 385,063\n",
      "Trainable params: 385,063\n",
      "Non-trainable params: 0\n",
      "_________________________________________________________________\n"
     ]
    },
    {
     "name": "stderr",
     "output_type": "stream",
     "text": [
      "2022-09-01 18:59:04.430964: I tensorflow/stream_executor/cuda/cuda_gpu_executor.cc:936] successful NUMA node read from SysFS had negative value (-1), but there must be at least one NUMA node, so returning NUMA node zero\n",
      "2022-09-01 18:59:04.432281: W tensorflow/stream_executor/platform/default/dso_loader.cc:64] Could not load dynamic library 'libcudart.so.11.0'; dlerror: libcudart.so.11.0: cannot open shared object file: No such file or directory; LD_LIBRARY_PATH: /home/rtrk/.local/lib/python3.8/site-packages/cv2/../../lib64:/opt/ros/noetic/lib\n",
      "2022-09-01 18:59:04.432347: W tensorflow/stream_executor/platform/default/dso_loader.cc:64] Could not load dynamic library 'libcublas.so.11'; dlerror: libcublas.so.11: cannot open shared object file: No such file or directory; LD_LIBRARY_PATH: /home/rtrk/.local/lib/python3.8/site-packages/cv2/../../lib64:/opt/ros/noetic/lib\n",
      "2022-09-01 18:59:04.432406: W tensorflow/stream_executor/platform/default/dso_loader.cc:64] Could not load dynamic library 'libcublasLt.so.11'; dlerror: libcublasLt.so.11: cannot open shared object file: No such file or directory; LD_LIBRARY_PATH: /home/rtrk/.local/lib/python3.8/site-packages/cv2/../../lib64:/opt/ros/noetic/lib\n",
      "2022-09-01 18:59:04.435958: W tensorflow/stream_executor/platform/default/dso_loader.cc:64] Could not load dynamic library 'libcusolver.so.11'; dlerror: libcusolver.so.11: cannot open shared object file: No such file or directory; LD_LIBRARY_PATH: /home/rtrk/.local/lib/python3.8/site-packages/cv2/../../lib64:/opt/ros/noetic/lib\n",
      "2022-09-01 18:59:04.436021: W tensorflow/stream_executor/platform/default/dso_loader.cc:64] Could not load dynamic library 'libcusparse.so.11'; dlerror: libcusparse.so.11: cannot open shared object file: No such file or directory; LD_LIBRARY_PATH: /home/rtrk/.local/lib/python3.8/site-packages/cv2/../../lib64:/opt/ros/noetic/lib\n",
      "2022-09-01 18:59:04.436079: W tensorflow/stream_executor/platform/default/dso_loader.cc:64] Could not load dynamic library 'libcudnn.so.8'; dlerror: libcudnn.so.8: cannot open shared object file: No such file or directory; LD_LIBRARY_PATH: /home/rtrk/.local/lib/python3.8/site-packages/cv2/../../lib64:/opt/ros/noetic/lib\n",
      "2022-09-01 18:59:04.436089: W tensorflow/core/common_runtime/gpu/gpu_device.cc:1850] Cannot dlopen some GPU libraries. Please make sure the missing libraries mentioned above are installed properly if you would like to use GPU. Follow the guide at https://www.tensorflow.org/install/gpu for how to download and setup the required libraries for your platform.\n",
      "Skipping registering GPU devices...\n",
      "2022-09-01 18:59:04.436373: I tensorflow/core/platform/cpu_feature_guard.cc:151] This TensorFlow binary is optimized with oneAPI Deep Neural Network Library (oneDNN) to use the following CPU instructions in performance-critical operations:  AVX2 FMA\n",
      "To enable them in other operations, rebuild TensorFlow with the appropriate compiler flags.\n"
     ]
    }
   ],
   "source": [
    "model = Sequential([\n",
    "\n",
    "Conv2D(filters=16, kernel_size=(5,5), strides=(5,5), activation='relu', input_shape=(200, 200, 3)),\n",
    "Conv2D(filters=32, kernel_size=(3,3), strides=(5,5), activation='relu'),\n",
    "Conv2D(filters=64, kernel_size=(3,3), strides=(5,5), activation='relu'),\n",
    "MaxPool2D(pool_size=(3,3)),\n",
    "Conv2D(filters=128, kernel_size=(3,3), strides=(5,5), activation='relu'),\n",
    "MaxPool2D(pool_size=(3,3)),\n",
    "Conv2D(filters=128, kernel_size=(3,3), strides=(5,5), activation='relu'),\n",
    "MaxPool2D(pool_size=(3,3)),\n",
    "GlobalAveragePooling2D(),\n",
    "Dense(1024, activation='relu'),\n",
    "Dropout(0.3),\n",
    "Dense(7, activation='softmax')\n",
    "          ])\n",
    "model.summary()"
   ]
  },
  {
   "cell_type": "code",
   "execution_count": null,
   "id": "e270e4fe",
   "metadata": {},
   "outputs": [
    {
     "name": "stderr",
     "output_type": "stream",
     "text": [
      "2022-09-01 18:59:04.506514: W tensorflow/core/framework/cpu_allocator_impl.cc:82] Allocation of 2926080000 exceeds 10% of free system memory.\n"
     ]
    },
    {
     "name": "stdout",
     "output_type": "stream",
     "text": [
      "Epoch 1/30\n"
     ]
    },
    {
     "name": "stderr",
     "output_type": "stream",
     "text": [
      "2022-09-01 18:59:07.964237: W tensorflow/core/framework/cpu_allocator_impl.cc:82] Allocation of 78675968 exceeds 10% of free system memory.\n",
      "2022-09-01 18:59:08.047617: W tensorflow/core/framework/cpu_allocator_impl.cc:82] Allocation of 154157056 exceeds 10% of free system memory.\n",
      "2022-09-01 18:59:08.084113: W tensorflow/core/framework/cpu_allocator_impl.cc:82] Allocation of 301989888 exceeds 10% of free system memory.\n",
      "2022-09-01 18:59:08.188830: W tensorflow/core/framework/cpu_allocator_impl.cc:82] Allocation of 33554432 exceeds 10% of free system memory.\n"
     ]
    },
    {
     "name": "stdout",
     "output_type": "stream",
     "text": [
      "191/191 [==============================] - 282s 1s/step - loss: 2.6406 - accuracy: 0.1588 - val_loss: 2.1775 - val_accuracy: 0.1331 - lr: 0.0050\n",
      "Epoch 2/30\n",
      "191/191 [==============================] - 275s 1s/step - loss: 1.9875 - accuracy: 0.1539 - val_loss: 1.9346 - val_accuracy: 0.1784 - lr: 0.0050\n",
      "Epoch 3/30\n",
      "191/191 [==============================] - 279s 1s/step - loss: 1.9081 - accuracy: 0.1946 - val_loss: 1.8109 - val_accuracy: 0.2636 - lr: 0.0050\n",
      "Epoch 4/30\n",
      "191/191 [==============================] - 275s 1s/step - loss: 1.7991 - accuracy: 0.2418 - val_loss: 1.5964 - val_accuracy: 0.3161 - lr: 0.0050\n",
      "Epoch 5/30\n",
      "191/191 [==============================] - 274s 1s/step - loss: 1.6585 - accuracy: 0.3268 - val_loss: 1.4419 - val_accuracy: 0.3784 - lr: 0.0050\n",
      "Epoch 6/30\n",
      "191/191 [==============================] - 274s 1s/step - loss: 1.5379 - accuracy: 0.3704 - val_loss: 1.7226 - val_accuracy: 0.3482 - lr: 0.0050\n",
      "Epoch 7/30\n",
      "191/191 [==============================] - 274s 1s/step - loss: 1.4571 - accuracy: 0.3983 - val_loss: 1.5276 - val_accuracy: 0.3574 - lr: 0.0050\n",
      "Epoch 8/30\n",
      "191/191 [==============================] - 274s 1s/step - loss: 1.4148 - accuracy: 0.4149 - val_loss: 1.5648 - val_accuracy: 0.3587 - lr: 0.0050\n",
      "Epoch 9/30\n",
      "191/191 [==============================] - 275s 1s/step - loss: 1.3725 - accuracy: 0.4437 - val_loss: 1.2910 - val_accuracy: 0.4525 - lr: 0.0050\n",
      "Epoch 10/30\n",
      "191/191 [==============================] - 274s 1s/step - loss: 1.3295 - accuracy: 0.4467 - val_loss: 1.2835 - val_accuracy: 0.4675 - lr: 0.0050\n",
      "Epoch 11/30\n",
      "191/191 [==============================] - 275s 1s/step - loss: 1.3161 - accuracy: 0.4524 - val_loss: 1.6585 - val_accuracy: 0.3882 - lr: 0.0050\n",
      "Epoch 12/30\n",
      "191/191 [==============================] - 276s 1s/step - loss: 1.2976 - accuracy: 0.4642 - val_loss: 1.2741 - val_accuracy: 0.4636 - lr: 0.0050\n",
      "Epoch 13/30\n",
      "149/191 [======================>.......] - ETA: 58s - loss: 1.2815 - accuracy: 0.4629"
     ]
    }
   ],
   "source": [
    "model.compile(loss=CategoricalCrossentropy(), optimizer=RMSprop(learning_rate=0.005), metrics=['accuracy'])\n",
    "\n",
    "history = model.fit(X_train, y_train,\n",
    "                    epochs = NUM_OF_EPOCHES,\n",
    "                    verbose = 1,\n",
    "                    validation_split=0.2,\n",
    "                    callbacks=callbacks\n",
    "                    )"
   ]
  },
  {
   "cell_type": "code",
   "execution_count": null,
   "id": "614416dd",
   "metadata": {},
   "outputs": [],
   "source": [
    "def plot_acc_loss(history, num_of_epochs):\n",
    "    plt.figure(figsize=(10, 4))\n",
    "\n",
    "    plt.subplot(1, 2, 1)\n",
    "    plt.title('Loss')\n",
    "    plt.plot(np.arange(0, num_of_epochs), history.history['loss'], label='train')\n",
    "    plt.plot(np.arange(0, num_of_epochs), history.history['val_loss'], label='val')\n",
    "    plt.legend(loc='best')\n",
    "\n",
    "    plt.subplot(1, 2, 2)\n",
    "    plt.title('Accuracy')\n",
    "    plt.plot(np.arange(0, num_of_epochs), history.history['accuracy'], label='train')\n",
    "    plt.plot(np.arange(0, num_of_epochs), history.history['val_accuracy'], label='val')\n",
    "    plt.legend(loc='best')\n",
    "\n",
    "    plt.show()"
   ]
  },
  {
   "cell_type": "code",
   "execution_count": null,
   "id": "62da57a4",
   "metadata": {},
   "outputs": [],
   "source": [
    "def evaluate_model(model,x_test,y_test,classes_names,conf_matrix_name):\n",
    "    score = model.evaluate(x_test, y_test, verbose=1)\n",
    "    print('Test loss:', score[0])\n",
    "    print('Test accuracy:', score[1])\n",
    "    \n",
    "    y_predicted = model.predict(x_test)\n",
    "    y_predicted_classes = np.argmax(y_predicted, axis = 1)\n",
    "    y_test_classes = np.argmax(y_test, axis = 1)\n",
    "    \n",
    "    conf_mat = confusion_matrix(y_test_classes, y_predicted_classes)\n",
    "    print(conf_mat)\n",
    "    \n",
    "    report = classification_report(y_test_classes, y_predicted_classes)\n",
    "    print(report)\n",
    "    \n",
    "    \n",
    "    y_predicted_classes.shape, y_test_classes.shape"
   ]
  },
  {
   "cell_type": "code",
   "execution_count": null,
   "id": "d40f24f4",
   "metadata": {},
   "outputs": [],
   "source": [
    "plot_acc_loss(history, 6)"
   ]
  },
  {
   "cell_type": "code",
   "execution_count": null,
   "id": "9ad38a62",
   "metadata": {},
   "outputs": [],
   "source": [
    "evaluate_model(model, X_train, y_train, CLASSES, \"model_train_evaluation\")"
   ]
  },
  {
   "cell_type": "code",
   "execution_count": null,
   "id": "ce329ea0",
   "metadata": {},
   "outputs": [],
   "source": [
    "evaluate_model(model, X_test, y_test, CLASSES, \"model_test_evaluation\")"
   ]
  },
  {
   "cell_type": "code",
   "execution_count": null,
   "id": "57272cc6",
   "metadata": {},
   "outputs": [],
   "source": [
    "model.save('models/model_with_RMSprop')"
   ]
  },
  {
   "cell_type": "code",
   "execution_count": null,
   "id": "4b1a20a9",
   "metadata": {},
   "outputs": [],
   "source": []
  }
 ],
 "metadata": {
  "kernelspec": {
   "display_name": "Python 3 (ipykernel)",
   "language": "python",
   "name": "python3"
  },
  "language_info": {
   "codemirror_mode": {
    "name": "ipython",
    "version": 3
   },
   "file_extension": ".py",
   "mimetype": "text/x-python",
   "name": "python",
   "nbconvert_exporter": "python",
   "pygments_lexer": "ipython3",
   "version": "3.8.10"
  }
 },
 "nbformat": 4,
 "nbformat_minor": 5
}
