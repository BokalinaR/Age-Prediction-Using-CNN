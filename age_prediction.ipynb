{
 "cells": [
  {
   "cell_type": "code",
   "execution_count": 1,
   "id": "f6d07451",
   "metadata": {},
   "outputs": [],
   "source": [
    "import pandas as pd\n",
    "import numpy as np\n",
    "from matplotlib import pyplot as plt\n",
    "import glob\n",
    "import os, cv2"
   ]
  },
  {
   "cell_type": "code",
   "execution_count": 2,
   "id": "12a0c027",
   "metadata": {},
   "outputs": [],
   "source": [
    "from sklearn import preprocessing\n",
    "from sklearn import model_selection\n",
    "from sklearn import linear_model\n",
    "from sklearn import metrics"
   ]
  },
  {
   "cell_type": "code",
   "execution_count": 3,
   "id": "5bed2bb3",
   "metadata": {},
   "outputs": [],
   "source": [
    "import imblearn"
   ]
  },
  {
   "cell_type": "code",
   "execution_count": 4,
   "id": "6f912b5b",
   "metadata": {},
   "outputs": [],
   "source": [
    "from sklearn.preprocessing import LabelEncoder\n",
    "from keras import backend as K\n",
    "from keras.utils.np_utils import to_categorical"
   ]
  },
  {
   "cell_type": "code",
   "execution_count": 5,
   "id": "1f559716",
   "metadata": {},
   "outputs": [],
   "source": [
    "from keras.preprocessing.image import ImageDataGenerator"
   ]
  },
  {
   "cell_type": "code",
   "execution_count": 6,
   "id": "be4a0bf5",
   "metadata": {},
   "outputs": [],
   "source": [
    "from keras.models import Sequential,Model,load_model\n",
    "from keras.layers import Dense,Input,Flatten,Dropout,Concatenate,GlobalAveragePooling2D,Lambda,ZeroPadding2D,BatchNormalization,MaxPool2D\n",
    "from keras.layers import SeparableConv2D,BatchNormalization,MaxPooling2D,Conv2D,AveragePooling2D,ReLU"
   ]
  },
  {
   "cell_type": "code",
   "execution_count": 7,
   "id": "07d329ef",
   "metadata": {},
   "outputs": [],
   "source": [
    "from tensorflow.keras.losses import CategoricalCrossentropy\n",
    "from tensorflow.keras.optimizers import Adam"
   ]
  },
  {
   "cell_type": "code",
   "execution_count": null,
   "id": "6754b814",
   "metadata": {},
   "outputs": [],
   "source": []
  },
  {
   "cell_type": "code",
   "execution_count": 8,
   "id": "bf8218aa",
   "metadata": {},
   "outputs": [],
   "source": [
    "RANDOM_STATE = 1054\n",
    "DIRECTORY = \"UTKFace/\"\n",
    "num_of_epochs = 30"
   ]
  },
  {
   "cell_type": "code",
   "execution_count": 9,
   "id": "513d52e3",
   "metadata": {},
   "outputs": [],
   "source": [
    "def parse_filepath(filepath):\n",
    "    \n",
    "    try:\n",
    "        path, filename = os.path.split(filepath)\n",
    "        filename, ext = os.path.splitext(filename)\n",
    "        age, gender, race, _ = filename.split(\"_\")\n",
    "        return int(age)\n",
    "    except Exception as e:\n",
    "        print(filepath)\n",
    "        return None"
   ]
  },
  {
   "cell_type": "code",
   "execution_count": 10,
   "id": "9aac2dcf",
   "metadata": {},
   "outputs": [
    {
     "name": "stdout",
     "output_type": "stream",
     "text": [
      "UTKFace\\39_1_20170116174525125.jpg.chip.jpg\n",
      "UTKFace\\61_1_20170109142408075.jpg.chip.jpg\n",
      "UTKFace\\61_1_20170109150557335.jpg.chip.jpg\n"
     ]
    }
   ],
   "source": [
    "files = glob.glob(os.path.join(DIRECTORY, \"*.jpg\"))\n",
    "data = list(map(parse_filepath, files))"
   ]
  },
  {
   "cell_type": "code",
   "execution_count": 11,
   "id": "6c45bc3b",
   "metadata": {
    "scrolled": false
   },
   "outputs": [
    {
     "data": {
      "text/html": [
       "<div>\n",
       "<style scoped>\n",
       "    .dataframe tbody tr th:only-of-type {\n",
       "        vertical-align: middle;\n",
       "    }\n",
       "\n",
       "    .dataframe tbody tr th {\n",
       "        vertical-align: top;\n",
       "    }\n",
       "\n",
       "    .dataframe thead th {\n",
       "        text-align: right;\n",
       "    }\n",
       "</style>\n",
       "<table border=\"1\" class=\"dataframe\">\n",
       "  <thead>\n",
       "    <tr style=\"text-align: right;\">\n",
       "      <th></th>\n",
       "      <th>age</th>\n",
       "      <th>file</th>\n",
       "    </tr>\n",
       "  </thead>\n",
       "  <tbody>\n",
       "    <tr>\n",
       "      <th>0</th>\n",
       "      <td>100.0</td>\n",
       "      <td>UTKFace\\100_0_0_20170112213500903.jpg.chip.jpg</td>\n",
       "    </tr>\n",
       "    <tr>\n",
       "      <th>1</th>\n",
       "      <td>100.0</td>\n",
       "      <td>UTKFace\\100_0_0_20170112215240346.jpg.chip.jpg</td>\n",
       "    </tr>\n",
       "    <tr>\n",
       "      <th>2</th>\n",
       "      <td>100.0</td>\n",
       "      <td>UTKFace\\100_1_0_20170110183726390.jpg.chip.jpg</td>\n",
       "    </tr>\n",
       "    <tr>\n",
       "      <th>3</th>\n",
       "      <td>100.0</td>\n",
       "      <td>UTKFace\\100_1_0_20170112213001988.jpg.chip.jpg</td>\n",
       "    </tr>\n",
       "    <tr>\n",
       "      <th>4</th>\n",
       "      <td>100.0</td>\n",
       "      <td>UTKFace\\100_1_0_20170112213303693.jpg.chip.jpg</td>\n",
       "    </tr>\n",
       "  </tbody>\n",
       "</table>\n",
       "</div>"
      ],
      "text/plain": [
       "     age                                            file\n",
       "0  100.0  UTKFace\\100_0_0_20170112213500903.jpg.chip.jpg\n",
       "1  100.0  UTKFace\\100_0_0_20170112215240346.jpg.chip.jpg\n",
       "2  100.0  UTKFace\\100_1_0_20170110183726390.jpg.chip.jpg\n",
       "3  100.0  UTKFace\\100_1_0_20170112213001988.jpg.chip.jpg\n",
       "4  100.0  UTKFace\\100_1_0_20170112213303693.jpg.chip.jpg"
      ]
     },
     "execution_count": 11,
     "metadata": {},
     "output_type": "execute_result"
    }
   ],
   "source": [
    "df = pd.DataFrame(data)\n",
    "df['file'] = files\n",
    "df.columns = ['age', 'file']\n",
    "df.head()"
   ]
  },
  {
   "cell_type": "code",
   "execution_count": 12,
   "id": "4a83a299",
   "metadata": {},
   "outputs": [
    {
     "data": {
      "text/plain": [
       "(23708, 2)"
      ]
     },
     "execution_count": 12,
     "metadata": {},
     "output_type": "execute_result"
    }
   ],
   "source": [
    "df.shape"
   ]
  },
  {
   "cell_type": "code",
   "execution_count": 13,
   "id": "42778348",
   "metadata": {},
   "outputs": [
    {
     "data": {
      "text/plain": [
       "<AxesSubplot:>"
      ]
     },
     "execution_count": 13,
     "metadata": {},
     "output_type": "execute_result"
    },
    {
     "data": {
      "image/png": "[encoded data removed]",
      "text/plain": [
       "<Figure size 432x288 with 1 Axes>"
      ]
     },
     "metadata": {
      "needs_background": "light"
     },
     "output_type": "display_data"
    }
   ],
   "source": [
    "df['age'].hist()"
   ]
  },
  {
   "cell_type": "code",
   "execution_count": 14,
   "id": "55098e02",
   "metadata": {},
   "outputs": [],
   "source": [
    "def class_label(age):\n",
    "    if 1 <= age <= 2:\n",
    "        return 0\n",
    "    elif 3 <= age <= 9:\n",
    "        return 1\n",
    "    elif 10 <= age <= 20:\n",
    "        return 2\n",
    "    elif 21 <= age <= 27:\n",
    "        return 3\n",
    "    elif 28 <= age <= 45:\n",
    "        return 4\n",
    "    elif 46 <= age <= 65:\n",
    "        return 5\n",
    "    else:\n",
    "        return 6\n"
   ]
  },
  {
   "cell_type": "code",
   "execution_count": 15,
   "id": "fd4dc606",
   "metadata": {},
   "outputs": [],
   "source": [
    "df['target'] = df['age'].map(class_label)"
   ]
  },
  {
   "cell_type": "code",
   "execution_count": 16,
   "id": "f8dd7259",
   "metadata": {},
   "outputs": [
    {
     "data": {
      "text/html": [
       "<div>\n",
       "<style scoped>\n",
       "    .dataframe tbody tr th:only-of-type {\n",
       "        vertical-align: middle;\n",
       "    }\n",
       "\n",
       "    .dataframe tbody tr th {\n",
       "        vertical-align: top;\n",
       "    }\n",
       "\n",
       "    .dataframe thead th {\n",
       "        text-align: right;\n",
       "    }\n",
       "</style>\n",
       "<table border=\"1\" class=\"dataframe\">\n",
       "  <thead>\n",
       "    <tr style=\"text-align: right;\">\n",
       "      <th></th>\n",
       "      <th>age</th>\n",
       "      <th>file</th>\n",
       "      <th>target</th>\n",
       "    </tr>\n",
       "  </thead>\n",
       "  <tbody>\n",
       "    <tr>\n",
       "      <th>0</th>\n",
       "      <td>100.0</td>\n",
       "      <td>UTKFace\\100_0_0_20170112213500903.jpg.chip.jpg</td>\n",
       "      <td>6</td>\n",
       "    </tr>\n",
       "    <tr>\n",
       "      <th>1</th>\n",
       "      <td>100.0</td>\n",
       "      <td>UTKFace\\100_0_0_20170112215240346.jpg.chip.jpg</td>\n",
       "      <td>6</td>\n",
       "    </tr>\n",
       "    <tr>\n",
       "      <th>2</th>\n",
       "      <td>100.0</td>\n",
       "      <td>UTKFace\\100_1_0_20170110183726390.jpg.chip.jpg</td>\n",
       "      <td>6</td>\n",
       "    </tr>\n",
       "    <tr>\n",
       "      <th>3</th>\n",
       "      <td>100.0</td>\n",
       "      <td>UTKFace\\100_1_0_20170112213001988.jpg.chip.jpg</td>\n",
       "      <td>6</td>\n",
       "    </tr>\n",
       "    <tr>\n",
       "      <th>4</th>\n",
       "      <td>100.0</td>\n",
       "      <td>UTKFace\\100_1_0_20170112213303693.jpg.chip.jpg</td>\n",
       "      <td>6</td>\n",
       "    </tr>\n",
       "  </tbody>\n",
       "</table>\n",
       "</div>"
      ],
      "text/plain": [
       "     age                                            file  target\n",
       "0  100.0  UTKFace\\100_0_0_20170112213500903.jpg.chip.jpg       6\n",
       "1  100.0  UTKFace\\100_0_0_20170112215240346.jpg.chip.jpg       6\n",
       "2  100.0  UTKFace\\100_1_0_20170110183726390.jpg.chip.jpg       6\n",
       "3  100.0  UTKFace\\100_1_0_20170112213001988.jpg.chip.jpg       6\n",
       "4  100.0  UTKFace\\100_1_0_20170112213303693.jpg.chip.jpg       6"
      ]
     },
     "execution_count": 16,
     "metadata": {},
     "output_type": "execute_result"
    }
   ],
   "source": [
    "df.head()"
   ]
  },
  {
   "cell_type": "code",
   "execution_count": 17,
   "id": "a0a2909e",
   "metadata": {},
   "outputs": [
    {
     "data": {
      "text/plain": [
       "<AxesSubplot:>"
      ]
     },
     "execution_count": 17,
     "metadata": {},
     "output_type": "execute_result"
    },
    {
     "data": {
      "image/png": "[encoded data removed]",
      "text/plain": [
       "<Figure size 432x288 with 1 Axes>"
      ]
     },
     "metadata": {
      "needs_background": "light"
     },
     "output_type": "display_data"
    }
   ],
   "source": [
    "df['target'].hist()"
   ]
  },
  {
   "cell_type": "code",
   "execution_count": 18,
   "id": "b40d1f6e",
   "metadata": {},
   "outputs": [],
   "source": [
    "df = df.sample(frac=0.65)"
   ]
  },
  {
   "cell_type": "code",
   "execution_count": 19,
   "id": "6309d700",
   "metadata": {},
   "outputs": [
    {
     "data": {
      "text/plain": [
       "<AxesSubplot:>"
      ]
     },
     "execution_count": 19,
     "metadata": {},
     "output_type": "execute_result"
    },
    {
     "data": {
      "image/png": "[encoded data removed]",
      "text/plain": [
       "<Figure size 432x288 with 1 Axes>"
      ]
     },
     "metadata": {
      "needs_background": "light"
     },
     "output_type": "display_data"
    }
   ],
   "source": [
    "df['target'].hist()"
   ]
  },
  {
   "cell_type": "code",
   "execution_count": 20,
   "id": "78f6d060",
   "metadata": {},
   "outputs": [],
   "source": [
    "X_files = df['file']\n",
    "y = df['target']\n",
    "X = []"
   ]
  },
  {
   "cell_type": "code",
   "execution_count": 21,
   "id": "4197cf99",
   "metadata": {},
   "outputs": [
    {
     "data": {
      "text/html": [
       "<div>\n",
       "<style scoped>\n",
       "    .dataframe tbody tr th:only-of-type {\n",
       "        vertical-align: middle;\n",
       "    }\n",
       "\n",
       "    .dataframe tbody tr th {\n",
       "        vertical-align: top;\n",
       "    }\n",
       "\n",
       "    .dataframe thead th {\n",
       "        text-align: right;\n",
       "    }\n",
       "</style>\n",
       "<table border=\"1\" class=\"dataframe\">\n",
       "  <thead>\n",
       "    <tr style=\"text-align: right;\">\n",
       "      <th></th>\n",
       "      <th>age</th>\n",
       "      <th>file</th>\n",
       "      <th>target</th>\n",
       "    </tr>\n",
       "  </thead>\n",
       "  <tbody>\n",
       "    <tr>\n",
       "      <th>8654</th>\n",
       "      <td>28.0</td>\n",
       "      <td>UTKFace\\28_0_0_20170117202330366.jpg.chip.jpg</td>\n",
       "      <td>4</td>\n",
       "    </tr>\n",
       "    <tr>\n",
       "      <th>17301</th>\n",
       "      <td>48.0</td>\n",
       "      <td>UTKFace\\48_0_0_20170111201211982.jpg.chip.jpg</td>\n",
       "      <td>5</td>\n",
       "    </tr>\n",
       "    <tr>\n",
       "      <th>5178</th>\n",
       "      <td>25.0</td>\n",
       "      <td>UTKFace\\25_0_2_20170116170511407.jpg.chip.jpg</td>\n",
       "      <td>3</td>\n",
       "    </tr>\n",
       "    <tr>\n",
       "      <th>20607</th>\n",
       "      <td>60.0</td>\n",
       "      <td>UTKFace\\60_1_0_20170117153656364.jpg.chip.jpg</td>\n",
       "      <td>5</td>\n",
       "    </tr>\n",
       "    <tr>\n",
       "      <th>21715</th>\n",
       "      <td>6.0</td>\n",
       "      <td>UTKFace\\6_1_0_20170109194218239.jpg.chip.jpg</td>\n",
       "      <td>1</td>\n",
       "    </tr>\n",
       "  </tbody>\n",
       "</table>\n",
       "</div>"
      ],
      "text/plain": [
       "        age                                           file  target\n",
       "8654   28.0  UTKFace\\28_0_0_20170117202330366.jpg.chip.jpg       4\n",
       "17301  48.0  UTKFace\\48_0_0_20170111201211982.jpg.chip.jpg       5\n",
       "5178   25.0  UTKFace\\25_0_2_20170116170511407.jpg.chip.jpg       3\n",
       "20607  60.0  UTKFace\\60_1_0_20170117153656364.jpg.chip.jpg       5\n",
       "21715   6.0   UTKFace\\6_1_0_20170109194218239.jpg.chip.jpg       1"
      ]
     },
     "execution_count": 21,
     "metadata": {},
     "output_type": "execute_result"
    }
   ],
   "source": [
    "df.head()"
   ]
  },
  {
   "cell_type": "code",
   "execution_count": 22,
   "id": "b37a51f5",
   "metadata": {},
   "outputs": [],
   "source": [
    "for img in X_files:\n",
    "    image = cv2.imread(img, cv2.IMREAD_COLOR)\n",
    "    X.append(np.array(image))"
   ]
  },
  {
   "cell_type": "code",
   "execution_count": 23,
   "id": "fcc58ae5",
   "metadata": {},
   "outputs": [],
   "source": [
    "label_encoder= LabelEncoder()\n",
    "Y = label_encoder.fit_transform(y)\n",
    "Y = to_categorical(Y,7)"
   ]
  },
  {
   "cell_type": "code",
   "execution_count": 24,
   "id": "7bc80985",
   "metadata": {},
   "outputs": [],
   "source": [
    "X = np.array(X)\n",
    "X = X.astype('float32')\n",
    "X=X/255.0"
   ]
  },
  {
   "cell_type": "code",
   "execution_count": 25,
   "id": "f3548634",
   "metadata": {},
   "outputs": [
    {
     "data": {
      "text/plain": [
       "((15410, 200, 200, 3), (15410, 7))"
      ]
     },
     "execution_count": 25,
     "metadata": {},
     "output_type": "execute_result"
    }
   ],
   "source": [
    "X.shape,Y.shape"
   ]
  },
  {
   "cell_type": "code",
   "execution_count": 26,
   "id": "e0580441",
   "metadata": {},
   "outputs": [],
   "source": [
    "X_train, X_test, y_train, y_test = model_selection.train_test_split(X, Y, test_size=0.3, random_state=RANDOM_STATE, stratify=Y)"
   ]
  },
  {
   "cell_type": "code",
   "execution_count": 27,
   "id": "89aff757",
   "metadata": {},
   "outputs": [
    {
     "data": {
      "text/plain": [
       "((10787, 200, 200, 3), (4623, 200, 200, 3), (10787, 7), (4623, 7))"
      ]
     },
     "execution_count": 27,
     "metadata": {},
     "output_type": "execute_result"
    }
   ],
   "source": [
    "X_train.shape, X_test.shape, y_train.shape, y_test.shape"
   ]
  },
  {
   "cell_type": "code",
   "execution_count": 28,
   "id": "cb81c5f8",
   "metadata": {},
   "outputs": [
    {
     "data": {
      "text/plain": [
       "((10787, 200, 200, 3), (10787, 7))"
      ]
     },
     "execution_count": 28,
     "metadata": {},
     "output_type": "execute_result"
    }
   ],
   "source": [
    "X_train.shape, y_train.shape"
   ]
  },
  {
   "cell_type": "code",
   "execution_count": 29,
   "id": "67d49535",
   "metadata": {},
   "outputs": [],
   "source": [
    "nsamples, nx, ny, nz = X_train.shape"
   ]
  },
  {
   "cell_type": "code",
   "execution_count": 30,
   "id": "95e9816c",
   "metadata": {},
   "outputs": [
    {
     "data": {
      "text/plain": [
       "(10787, 120000)"
      ]
     },
     "execution_count": 30,
     "metadata": {},
     "output_type": "execute_result"
    }
   ],
   "source": [
    "d2_train = X_train.reshape((nsamples,nx*ny*nz))\n",
    "d2_train.shape"
   ]
  },
  {
   "cell_type": "code",
   "execution_count": 31,
   "id": "926ed2b4",
   "metadata": {},
   "outputs": [],
   "source": [
    " rus = imblearn.under_sampling.RandomUnderSampler(random_state=RANDOM_STATE, sampling_strategy='auto')"
   ]
  },
  {
   "cell_type": "code",
   "execution_count": 32,
   "id": "710af8ed",
   "metadata": {},
   "outputs": [],
   "source": [
    "X_train, y_train = rus.fit_resample(d2_train, y_train)\n",
    "# X_train, y_train = rus.fit_resample(X_train, y_train)"
   ]
  },
  {
   "cell_type": "code",
   "execution_count": 33,
   "id": "e9bc68f2",
   "metadata": {},
   "outputs": [
    {
     "data": {
      "text/plain": [
       "(4599, 200, 200, 3)"
      ]
     },
     "execution_count": 33,
     "metadata": {},
     "output_type": "execute_result"
    }
   ],
   "source": [
    "X_train = X_train.reshape((-1,nx,ny,nz))\n",
    "X_train.shape"
   ]
  },
  {
   "cell_type": "code",
   "execution_count": 34,
   "id": "b1155877",
   "metadata": {},
   "outputs": [],
   "source": [
    "augs_gen = ImageDataGenerator(\n",
    "        featurewise_center=False,  \n",
    "        samplewise_center=False, \n",
    "        featurewise_std_normalization=False,  \n",
    "        samplewise_std_normalization=False,  \n",
    "        zca_whitening=False,  \n",
    "        rotation_range=10,  \n",
    "        zoom_range = 0.1, \n",
    "        width_shift_range=0.2,  \n",
    "        height_shift_range=0.2, \n",
    "        horizontal_flip=True,  \n",
    "        vertical_flip=False,\n",
    "        validation_split=0.3) \n",
    "\n",
    "augs_gen.fit(X_train)"
   ]
  },
  {
   "cell_type": "code",
   "execution_count": 35,
   "id": "686f2eb9",
   "metadata": {},
   "outputs": [
    {
     "name": "stdout",
     "output_type": "stream",
     "text": [
      "Model: \"sequential\"\n",
      "_________________________________________________________________\n",
      " Layer (type)                Output Shape              Param #   \n",
      "=================================================================\n",
      " conv2d (Conv2D)             (None, 198, 198, 32)      896       \n",
      "                                                                 \n",
      " average_pooling2d (AverageP  (None, 99, 99, 32)       0         \n",
      " ooling2D)                                                       \n",
      "                                                                 \n",
      " conv2d_1 (Conv2D)           (None, 97, 97, 64)        18496     \n",
      "                                                                 \n",
      " average_pooling2d_1 (Averag  (None, 48, 48, 64)       0         \n",
      " ePooling2D)                                                     \n",
      "                                                                 \n",
      " conv2d_2 (Conv2D)           (None, 46, 46, 128)       73856     \n",
      "                                                                 \n",
      " average_pooling2d_2 (Averag  (None, 23, 23, 128)      0         \n",
      " ePooling2D)                                                     \n",
      "                                                                 \n",
      " conv2d_3 (Conv2D)           (None, 21, 21, 256)       295168    \n",
      "                                                                 \n",
      " average_pooling2d_3 (Averag  (None, 10, 10, 256)      0         \n",
      " ePooling2D)                                                     \n",
      "                                                                 \n",
      " global_average_pooling2d (G  (None, 256)              0         \n",
      " lobalAveragePooling2D)                                          \n",
      "                                                                 \n",
      " dense (Dense)               (None, 132)               33924     \n",
      "                                                                 \n",
      " dense_1 (Dense)             (None, 7)                 931       \n",
      "                                                                 \n",
      "=================================================================\n",
      "Total params: 423,271\n",
      "Trainable params: 423,271\n",
      "Non-trainable params: 0\n",
      "_________________________________________________________________\n"
     ]
    }
   ],
   "source": [
    "# net = Sequential()\n",
    "\n",
    "# net.add(Conv2D(filters=32, kernel_size=3, activation='relu', input_shape=(200,200,3)))\n",
    "# BatchNormalization(),\n",
    "# ReLU(),\n",
    "# net.add(MaxPool2D(pool_size=(2,2)))\n",
    "\n",
    "# net.add(Conv2D(filters=64, kernel_size=3, activation='relu'))\n",
    "# BatchNormalization(),\n",
    "# ReLU(),\n",
    "# net.add(MaxPool2D(pool_size=(2,2)))\n",
    "\n",
    "# net.add(Conv2D(filters=128, kernel_size=3, activation='relu'))\n",
    "# BatchNormalization(),\n",
    "# ReLU(),\n",
    "# net.add(MaxPool2D(pool_size=(2,2)))\n",
    "\n",
    "# net.add(Conv2D(filters=256, kernel_size=3, activation='relu'))\n",
    "# BatchNormalization(),\n",
    "# ReLU(),\n",
    "# net.add(MaxPool2D(pool_size=(2,2)))\n",
    "\n",
    "# net.add(Dense(512, activation='relu'))\n",
    "# BatchNormalization(),\n",
    "# ReLU(),\n",
    "# net.add(MaxPool2D(pool_size=(2,2)))\n",
    "\n",
    "# net.add(Dense(1024, activation='relu'))\n",
    "# BatchNormalization(),\n",
    "# ReLU(),\n",
    "# Dropout(0.5),\n",
    "# net.add(Dense(7, activation='softmax'))\n",
    "\n",
    "# net.summary()\n",
    "net = Sequential()\n",
    "\n",
    "net.add(Conv2D(filters=32, kernel_size=3, activation='relu', input_shape=(200,200,3)))\n",
    "net.add(AveragePooling2D(pool_size=(2,2)))\n",
    "\n",
    "net.add(Conv2D(filters=64, kernel_size=3, activation='relu'))\n",
    "net.add(AveragePooling2D(pool_size=(2,2)))\n",
    "\n",
    "net.add(Conv2D(filters=128, kernel_size=3, activation='relu'))\n",
    "net.add(AveragePooling2D(pool_size=(2,2)))\n",
    "\n",
    "net.add(Conv2D(filters=256, kernel_size=3, activation='relu'))\n",
    "net.add(AveragePooling2D(pool_size=(2,2)))\n",
    "\n",
    "net.add(GlobalAveragePooling2D())\n",
    "\n",
    "net.add(Dense(132, activation='relu'))\n",
    "net.add(Dense(7, activation='softmax'))\n",
    "\n",
    "net.summary()"
   ]
  },
  {
   "cell_type": "code",
   "execution_count": 36,
   "id": "ff66c053",
   "metadata": {},
   "outputs": [],
   "source": [
    "net.compile(loss='categorical_crossentropy', optimizer=Adam(learning_rate=0.001), metrics=['accuracy'])"
   ]
  },
  {
   "cell_type": "code",
   "execution_count": 37,
   "id": "10ff8cbe",
   "metadata": {},
   "outputs": [
    {
     "data": {
      "text/plain": [
       "((4599, 200, 200, 3), (4599, 7))"
      ]
     },
     "execution_count": 37,
     "metadata": {},
     "output_type": "execute_result"
    }
   ],
   "source": [
    "X_train.shape, y_train.shape"
   ]
  },
  {
   "cell_type": "code",
   "execution_count": 38,
   "id": "c322999a",
   "metadata": {},
   "outputs": [
    {
     "name": "stdout",
     "output_type": "stream",
     "text": [
      "Epoch 1/30\n",
      "322/322 [==============================] - 106s 324ms/step - loss: 1.6449 - accuracy: 0.1904 - val_loss: 7.2851 - val_accuracy: 0.0000e+00\n",
      "Epoch 2/30\n",
      "322/322 [==============================] - 103s 321ms/step - loss: 1.6182 - accuracy: 0.2093 - val_loss: 7.1461 - val_accuracy: 0.0399\n",
      "Epoch 3/30\n",
      "322/322 [==============================] - 103s 321ms/step - loss: 1.6025 - accuracy: 0.2357 - val_loss: 6.8911 - val_accuracy: 0.0000e+00\n",
      "Epoch 4/30\n",
      "322/322 [==============================] - 102s 318ms/step - loss: 1.5910 - accuracy: 0.2460 - val_loss: 7.6561 - val_accuracy: 0.0000e+00\n",
      "Epoch 5/30\n",
      "322/322 [==============================] - 103s 319ms/step - loss: 1.5870 - accuracy: 0.2512 - val_loss: 8.7981 - val_accuracy: 0.0094\n",
      "Epoch 6/30\n",
      "322/322 [==============================] - 104s 323ms/step - loss: 1.5795 - accuracy: 0.2649 - val_loss: 7.7527 - val_accuracy: 0.0015\n",
      "Epoch 7/30\n",
      "322/322 [==============================] - 103s 318ms/step - loss: 1.5764 - accuracy: 0.2627 - val_loss: 8.0205 - val_accuracy: 0.0000e+00\n",
      "Epoch 8/30\n",
      "322/322 [==============================] - 102s 318ms/step - loss: 1.5685 - accuracy: 0.2668 - val_loss: 9.3745 - val_accuracy: 0.0000e+00\n",
      "Epoch 9/30\n",
      "322/322 [==============================] - 104s 322ms/step - loss: 1.5703 - accuracy: 0.2689 - val_loss: 9.7216 - val_accuracy: 0.0000e+00\n",
      "Epoch 10/30\n",
      "322/322 [==============================] - 103s 319ms/step - loss: 1.5609 - accuracy: 0.2835 - val_loss: 10.1588 - val_accuracy: 0.0000e+00\n",
      "Epoch 11/30\n",
      "322/322 [==============================] - 104s 323ms/step - loss: 1.5622 - accuracy: 0.2711 - val_loss: 10.0214 - val_accuracy: 0.0044\n",
      "Epoch 12/30\n",
      "322/322 [==============================] - 103s 319ms/step - loss: 1.5511 - accuracy: 0.2879 - val_loss: 9.3686 - val_accuracy: 0.0022\n",
      "Epoch 13/30\n",
      "322/322 [==============================] - 108s 334ms/step - loss: 1.5410 - accuracy: 0.2929 - val_loss: 10.0116 - val_accuracy: 0.0109\n",
      "Epoch 14/30\n",
      "322/322 [==============================] - 110s 341ms/step - loss: 1.5338 - accuracy: 0.3028 - val_loss: 10.6742 - val_accuracy: 0.0029\n",
      "Epoch 15/30\n",
      "322/322 [==============================] - 112s 348ms/step - loss: 1.5206 - accuracy: 0.3227 - val_loss: 11.7615 - val_accuracy: 0.0036\n",
      "Epoch 16/30\n",
      "322/322 [==============================] - 115s 357ms/step - loss: 1.5092 - accuracy: 0.3261 - val_loss: 11.9584 - val_accuracy: 0.0080\n",
      "Epoch 17/30\n",
      "322/322 [==============================] - 153s 476ms/step - loss: 1.4965 - accuracy: 0.3329 - val_loss: 13.0150 - val_accuracy: 0.0123\n",
      "Epoch 18/30\n",
      "322/322 [==============================] - 138s 429ms/step - loss: 1.4632 - accuracy: 0.3500 - val_loss: 14.8167 - val_accuracy: 0.0065\n",
      "Epoch 19/30\n",
      "322/322 [==============================] - 139s 430ms/step - loss: 1.4470 - accuracy: 0.3537 - val_loss: 17.4756 - val_accuracy: 0.0276\n",
      "Epoch 20/30\n",
      "322/322 [==============================] - 128s 398ms/step - loss: 1.4261 - accuracy: 0.3581 - val_loss: 13.4361 - val_accuracy: 0.0058\n",
      "Epoch 21/30\n",
      "322/322 [==============================] - 135s 417ms/step - loss: 1.4118 - accuracy: 0.3789 - val_loss: 14.8435 - val_accuracy: 0.0123\n",
      "Epoch 22/30\n",
      "322/322 [==============================] - 128s 398ms/step - loss: 1.3882 - accuracy: 0.3826 - val_loss: 14.6467 - val_accuracy: 0.0247\n",
      "Epoch 23/30\n",
      "322/322 [==============================] - 124s 384ms/step - loss: 1.3784 - accuracy: 0.3922 - val_loss: 14.2371 - val_accuracy: 0.0145\n",
      "Epoch 24/30\n",
      "322/322 [==============================] - 126s 391ms/step - loss: 1.3404 - accuracy: 0.3994 - val_loss: 11.9940 - val_accuracy: 0.0094\n",
      "Epoch 25/30\n",
      "322/322 [==============================] - 126s 390ms/step - loss: 1.3206 - accuracy: 0.4087 - val_loss: 17.4722 - val_accuracy: 0.0181\n",
      "Epoch 26/30\n",
      "322/322 [==============================] - 121s 376ms/step - loss: 1.2931 - accuracy: 0.4345 - val_loss: 17.6635 - val_accuracy: 0.0058\n",
      "Epoch 27/30\n",
      "322/322 [==============================] - 121s 376ms/step - loss: 1.2825 - accuracy: 0.4298 - val_loss: 17.6836 - val_accuracy: 0.0203\n",
      "Epoch 28/30\n",
      "322/322 [==============================] - 129s 400ms/step - loss: 1.2518 - accuracy: 0.4329 - val_loss: 19.5008 - val_accuracy: 0.0203\n",
      "Epoch 29/30\n",
      "322/322 [==============================] - 127s 395ms/step - loss: 1.2458 - accuracy: 0.4559 - val_loss: 18.1720 - val_accuracy: 0.0268\n",
      "Epoch 30/30\n",
      "322/322 [==============================] - 134s 415ms/step - loss: 1.2245 - accuracy: 0.4643 - val_loss: 16.6546 - val_accuracy: 0.0160\n"
     ]
    }
   ],
   "source": [
    "history = net.fit(\n",
    "                    augs_gen.flow(X_train, y_train, batch_size = 10,  subset='training'),\n",
    "                    epochs = num_of_epochs,\n",
    "                    verbose = 1,\n",
    "                    validation_data  = augs_gen.flow(X_train, y_train, batch_size=8, subset='validation'),\n",
    "                    )"
   ]
  },
  {
   "cell_type": "code",
   "execution_count": 39,
   "id": "13819c69",
   "metadata": {
    "scrolled": true
   },
   "outputs": [
    {
     "name": "stdout",
     "output_type": "stream",
     "text": [
      "Model: \"sequential_1\"\n",
      "_________________________________________________________________\n",
      " Layer (type)                Output Shape              Param #   \n",
      "=================================================================\n",
      " conv2d_4 (Conv2D)           (None, 48, 48, 96)        34944     \n",
      "                                                                 \n",
      " batch_normalization (BatchN  (None, 48, 48, 96)       384       \n",
      " ormalization)                                                   \n",
      "                                                                 \n",
      " max_pooling2d (MaxPooling2D  (None, 23, 23, 96)       0         \n",
      " )                                                               \n",
      "                                                                 \n",
      " conv2d_5 (Conv2D)           (None, 23, 23, 256)       614656    \n",
      "                                                                 \n",
      " batch_normalization_1 (Batc  (None, 23, 23, 256)      1024      \n",
      " hNormalization)                                                 \n",
      "                                                                 \n",
      " max_pooling2d_1 (MaxPooling  (None, 11, 11, 256)      0         \n",
      " 2D)                                                             \n",
      "                                                                 \n",
      " conv2d_6 (Conv2D)           (None, 11, 11, 384)       885120    \n",
      "                                                                 \n",
      " batch_normalization_2 (Batc  (None, 11, 11, 384)      1536      \n",
      " hNormalization)                                                 \n",
      "                                                                 \n",
      " max_pooling2d_2 (MaxPooling  (None, 5, 5, 384)        0         \n",
      " 2D)                                                             \n",
      "                                                                 \n",
      " conv2d_7 (Conv2D)           (None, 5, 5, 384)         1327488   \n",
      "                                                                 \n",
      " batch_normalization_3 (Batc  (None, 5, 5, 384)        1536      \n",
      " hNormalization)                                                 \n",
      "                                                                 \n",
      " max_pooling2d_3 (MaxPooling  (None, 2, 2, 384)        0         \n",
      " 2D)                                                             \n",
      "                                                                 \n",
      " dense_2 (Dense)             (None, 2, 2, 4096)        1576960   \n",
      "                                                                 \n",
      " batch_normalization_4 (Batc  (None, 2, 2, 4096)       16384     \n",
      " hNormalization)                                                 \n",
      "                                                                 \n",
      " dropout (Dropout)           (None, 2, 2, 4096)        0         \n",
      "                                                                 \n",
      " global_average_pooling2d_1   (None, 4096)             0         \n",
      " (GlobalAveragePooling2D)                                        \n",
      "                                                                 \n",
      " dropout_1 (Dropout)         (None, 4096)              0         \n",
      "                                                                 \n",
      " dense_3 (Dense)             (None, 128)               524416    \n",
      "                                                                 \n",
      " dense_4 (Dense)             (None, 7)                 903       \n",
      "                                                                 \n",
      "=================================================================\n",
      "Total params: 4,985,351\n",
      "Trainable params: 4,974,919\n",
      "Non-trainable params: 10,432\n",
      "_________________________________________________________________\n"
     ]
    }
   ],
   "source": [
    "model = Sequential([\n",
    "    Conv2D(filters=96, kernel_size=(11,11), strides=(4,4), activation='relu', input_shape=(200,200,3)),\n",
    "    BatchNormalization(),\n",
    "    MaxPool2D(pool_size=(3,3), strides=(2,2)),\n",
    "    Conv2D(filters=256, kernel_size=(5,5), strides=(1,1), activation='relu', padding=\"same\"),\n",
    "    BatchNormalization(),\n",
    "    MaxPool2D(pool_size=(3,3), strides=(2,2)),\n",
    "    Conv2D(filters=384, kernel_size=(3,3), strides=(1,1), activation='relu', padding=\"same\"),\n",
    "    BatchNormalization(),\n",
    "    MaxPool2D(pool_size=(3,3), strides=(2,2)),\n",
    "    Conv2D(filters=384, kernel_size=(3,3), strides=(1,1), activation='relu', padding=\"same\"),\n",
    "    BatchNormalization(),\n",
    "    MaxPool2D(pool_size=(3,3), strides=(2,2)),\n",
    "    Dense(4096, activation='relu'),\n",
    "    BatchNormalization(),\n",
    "    Dropout(0.5),\n",
    "    GlobalAveragePooling2D(),\n",
    "    Dropout(0.5),\n",
    "    Dense(128, activation='relu'),\n",
    "    Dense(7, activation='softmax')\n",
    "                                  ])\n",
    "model.summary()"
   ]
  },
  {
   "cell_type": "code",
   "execution_count": 40,
   "id": "27d7918a",
   "metadata": {},
   "outputs": [],
   "source": [
    "model.compile(loss='categorical_crossentropy', optimizer=Adam(learning_rate=0.1), metrics=['accuracy'])"
   ]
  },
  {
   "cell_type": "code",
   "execution_count": null,
   "id": "f8788855",
   "metadata": {},
   "outputs": [],
   "source": [
    "hi = model.fit(\n",
    "                    augs_gen.flow(X_train, y_train, batch_size = 32,  subset='training'),\n",
    "                    epochs = num_of_epochs,\n",
    "                    verbose = 1,\n",
    "                    validation_data  = augs_gen.flow(X_train, y_train, batch_size=8, subset='validation'),\n",
    "                    )"
   ]
  },
  {
   "cell_type": "code",
   "execution_count": null,
   "id": "faa11bf2",
   "metadata": {},
   "outputs": [],
   "source": [
    "model.save('output/model2_001lr')"
   ]
  },
  {
   "cell_type": "code",
   "execution_count": null,
   "id": "a807b517",
   "metadata": {},
   "outputs": [],
   "source": []
  },
  {
   "cell_type": "code",
   "execution_count": null,
   "id": "4f5910c5",
   "metadata": {},
   "outputs": [],
   "source": []
  },
  {
   "cell_type": "code",
   "execution_count": null,
   "id": "a679cb08",
   "metadata": {},
   "outputs": [],
   "source": []
  },
  {
   "cell_type": "code",
   "execution_count": null,
   "id": "9f72b1f3",
   "metadata": {},
   "outputs": [],
   "source": []
  }
 ],
 "metadata": {
  "kernelspec": {
   "display_name": "Python 3 (ipykernel)",
   "language": "python",
   "name": "python3"
  },
  "language_info": {
   "codemirror_mode": {
    "name": "ipython",
    "version": 3
   },
   "file_extension": ".py",
   "mimetype": "text/x-python",
   "name": "python",
   "nbconvert_exporter": "python",
   "pygments_lexer": "ipython3",
   "version": "3.8.13"
  }
 },
 "nbformat": 4,
 "nbformat_minor": 5
}
