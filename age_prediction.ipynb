{
 "cells": [
  {
   "cell_type": "code",
   "execution_count": 1,
   "id": "5a3a213c",
   "metadata": {},
   "outputs": [],
   "source": [
    "import pandas as pd\n",
    "import numpy as np\n",
    "from matplotlib import pyplot as plt\n",
    "import glob\n",
    "import os, cv2"
   ]
  },
  {
   "cell_type": "code",
   "execution_count": 2,
   "id": "0c0ef07b",
   "metadata": {},
   "outputs": [],
   "source": [
    "from sklearn import preprocessing\n",
    "from sklearn import model_selection\n",
    "from sklearn import linear_model\n",
    "from sklearn import metrics"
   ]
  },
  {
   "cell_type": "code",
   "execution_count": 3,
   "id": "88bbdb99",
   "metadata": {},
   "outputs": [],
   "source": [
    "import imblearn"
   ]
  },
  {
   "cell_type": "code",
   "execution_count": 4,
   "id": "32876c16",
   "metadata": {},
   "outputs": [],
   "source": [
    "from sklearn.preprocessing import LabelEncoder\n",
    "from keras import backend as K\n",
    "from keras.utils.np_utils import to_categorical"
   ]
  },
  {
   "cell_type": "code",
   "execution_count": 5,
   "id": "486afcbe",
   "metadata": {},
   "outputs": [],
   "source": [
    "from keras.preprocessing.image import ImageDataGenerator"
   ]
  },
  {
   "cell_type": "code",
   "execution_count": 6,
   "id": "3c970960",
   "metadata": {},
   "outputs": [],
   "source": [
    "from keras.models import Sequential,Model,load_model\n",
    "from keras.layers import Dense,Input,Flatten,Dropout,Concatenate,GlobalAveragePooling2D,Lambda,ZeroPadding2D,BatchNormalization,MaxPool2D\n",
    "from keras.layers import SeparableConv2D,BatchNormalization,MaxPooling2D,Conv2D,AveragePooling2D,ReLU"
   ]
  },
  {
   "cell_type": "code",
   "execution_count": 7,
   "id": "40236088",
   "metadata": {},
   "outputs": [],
   "source": [
    "from tensorflow.keras.losses import CategoricalCrossentropy\n",
    "from tensorflow.keras.optimizers import Adam"
   ]
  },
  {
   "cell_type": "code",
   "execution_count": null,
   "id": "0fef180f",
   "metadata": {},
   "outputs": [],
   "source": []
  },
  {
   "cell_type": "code",
   "execution_count": 8,
   "id": "1ef59733",
   "metadata": {},
   "outputs": [],
   "source": [
    "RANDOM_STATE = 1054\n",
    "DIRECTORY = \"UTKFace/\"\n",
    "num_of_epochs = 30"
   ]
  },
  {
   "cell_type": "code",
   "execution_count": 9,
   "id": "aec5f283",
   "metadata": {},
   "outputs": [],
   "source": [
    "def parse_filepath(filepath):\n",
    "    \n",
    "    try:\n",
    "        path, filename = os.path.split(filepath)\n",
    "        filename, ext = os.path.splitext(filename)\n",
    "        age, gender, race, _ = filename.split(\"_\")\n",
    "        return int(age)\n",
    "    except Exception as e:\n",
    "        print(filepath)\n",
    "        return None"
   ]
  },
  {
   "cell_type": "code",
   "execution_count": 10,
   "id": "71cfe61c",
   "metadata": {},
   "outputs": [
    {
     "name": "stdout",
     "output_type": "stream",
     "text": [
      "UTKFace\\39_1_20170116174525125.jpg.chip.jpg\n",
      "UTKFace\\61_1_20170109142408075.jpg.chip.jpg\n",
      "UTKFace\\61_1_20170109150557335.jpg.chip.jpg\n"
     ]
    }
   ],
   "source": [
    "files = glob.glob(os.path.join(DIRECTORY, \"*.jpg\"))\n",
    "data = list(map(parse_filepath, files))"
   ]
  },
  {
   "cell_type": "code",
   "execution_count": 11,
   "id": "6c0275f7",
   "metadata": {
    "scrolled": false
   },
   "outputs": [
    {
     "data": {
      "text/html": [
       "<div>\n",
       "<style scoped>\n",
       "    .dataframe tbody tr th:only-of-type {\n",
       "        vertical-align: middle;\n",
       "    }\n",
       "\n",
       "    .dataframe tbody tr th {\n",
       "        vertical-align: top;\n",
       "    }\n",
       "\n",
       "    .dataframe thead th {\n",
       "        text-align: right;\n",
       "    }\n",
       "</style>\n",
       "<table border=\"1\" class=\"dataframe\">\n",
       "  <thead>\n",
       "    <tr style=\"text-align: right;\">\n",
       "      <th></th>\n",
       "      <th>age</th>\n",
       "      <th>file</th>\n",
       "    </tr>\n",
       "  </thead>\n",
       "  <tbody>\n",
       "    <tr>\n",
       "      <th>0</th>\n",
       "      <td>100.0</td>\n",
       "      <td>UTKFace\\100_0_0_20170112213500903.jpg.chip.jpg</td>\n",
       "    </tr>\n",
       "    <tr>\n",
       "      <th>1</th>\n",
       "      <td>100.0</td>\n",
       "      <td>UTKFace\\100_0_0_20170112215240346.jpg.chip.jpg</td>\n",
       "    </tr>\n",
       "    <tr>\n",
       "      <th>2</th>\n",
       "      <td>100.0</td>\n",
       "      <td>UTKFace\\100_1_0_20170110183726390.jpg.chip.jpg</td>\n",
       "    </tr>\n",
       "    <tr>\n",
       "      <th>3</th>\n",
       "      <td>100.0</td>\n",
       "      <td>UTKFace\\100_1_0_20170112213001988.jpg.chip.jpg</td>\n",
       "    </tr>\n",
       "    <tr>\n",
       "      <th>4</th>\n",
       "      <td>100.0</td>\n",
       "      <td>UTKFace\\100_1_0_20170112213303693.jpg.chip.jpg</td>\n",
       "    </tr>\n",
       "  </tbody>\n",
       "</table>\n",
       "</div>"
      ],
      "text/plain": [
       "     age                                            file\n",
       "0  100.0  UTKFace\\100_0_0_20170112213500903.jpg.chip.jpg\n",
       "1  100.0  UTKFace\\100_0_0_20170112215240346.jpg.chip.jpg\n",
       "2  100.0  UTKFace\\100_1_0_20170110183726390.jpg.chip.jpg\n",
       "3  100.0  UTKFace\\100_1_0_20170112213001988.jpg.chip.jpg\n",
       "4  100.0  UTKFace\\100_1_0_20170112213303693.jpg.chip.jpg"
      ]
     },
     "execution_count": 11,
     "metadata": {},
     "output_type": "execute_result"
    }
   ],
   "source": [
    "df = pd.DataFrame(data)\n",
    "df['file'] = files\n",
    "df.columns = ['age', 'file']\n",
    "df.head()"
   ]
  },
  {
   "cell_type": "code",
   "execution_count": 12,
   "id": "8fe593c1",
   "metadata": {},
   "outputs": [
    {
     "data": {
      "text/plain": [
       "(23708, 2)"
      ]
     },
     "execution_count": 12,
     "metadata": {},
     "output_type": "execute_result"
    }
   ],
   "source": [
    "df.shape"
   ]
  },
  {
   "cell_type": "code",
   "execution_count": 13,
   "id": "b27817db",
   "metadata": {},
   "outputs": [
    {
     "data": {
      "text/plain": [
       "<AxesSubplot:>"
      ]
     },
     "execution_count": 13,
     "metadata": {},
     "output_type": "execute_result"
    },
    {
     "data": {
      "image/png": "[encoded data removed]",
      "text/plain": [
       "<Figure size 432x288 with 1 Axes>"
      ]
     },
     "metadata": {
      "needs_background": "light"
     },
     "output_type": "display_data"
    }
   ],
   "source": [
    "df['age'].hist()"
   ]
  },
  {
   "cell_type": "code",
   "execution_count": 14,
   "id": "fff0a32b",
   "metadata": {},
   "outputs": [],
   "source": [
    "def class_label(age):\n",
    "    if 1 <= age <= 2:\n",
    "        return 0\n",
    "    elif 3 <= age <= 9:\n",
    "        return 1\n",
    "    elif 10 <= age <= 20:\n",
    "        return 2\n",
    "    elif 21 <= age <= 27:\n",
    "        return 3\n",
    "    elif 28 <= age <= 45:\n",
    "        return 4\n",
    "    elif 46 <= age <= 65:\n",
    "        return 5\n",
    "    else:\n",
    "        return 6\n"
   ]
  },
  {
   "cell_type": "code",
   "execution_count": 15,
   "id": "8bb12302",
   "metadata": {},
   "outputs": [],
   "source": [
    "df['target'] = df['age'].map(class_label)"
   ]
  },
  {
   "cell_type": "code",
   "execution_count": 16,
   "id": "a540d96d",
   "metadata": {},
   "outputs": [
    {
     "data": {
      "text/html": [
       "<div>\n",
       "<style scoped>\n",
       "    .dataframe tbody tr th:only-of-type {\n",
       "        vertical-align: middle;\n",
       "    }\n",
       "\n",
       "    .dataframe tbody tr th {\n",
       "        vertical-align: top;\n",
       "    }\n",
       "\n",
       "    .dataframe thead th {\n",
       "        text-align: right;\n",
       "    }\n",
       "</style>\n",
       "<table border=\"1\" class=\"dataframe\">\n",
       "  <thead>\n",
       "    <tr style=\"text-align: right;\">\n",
       "      <th></th>\n",
       "      <th>age</th>\n",
       "      <th>file</th>\n",
       "      <th>target</th>\n",
       "    </tr>\n",
       "  </thead>\n",
       "  <tbody>\n",
       "    <tr>\n",
       "      <th>0</th>\n",
       "      <td>100.0</td>\n",
       "      <td>UTKFace\\100_0_0_20170112213500903.jpg.chip.jpg</td>\n",
       "      <td>6</td>\n",
       "    </tr>\n",
       "    <tr>\n",
       "      <th>1</th>\n",
       "      <td>100.0</td>\n",
       "      <td>UTKFace\\100_0_0_20170112215240346.jpg.chip.jpg</td>\n",
       "      <td>6</td>\n",
       "    </tr>\n",
       "    <tr>\n",
       "      <th>2</th>\n",
       "      <td>100.0</td>\n",
       "      <td>UTKFace\\100_1_0_20170110183726390.jpg.chip.jpg</td>\n",
       "      <td>6</td>\n",
       "    </tr>\n",
       "    <tr>\n",
       "      <th>3</th>\n",
       "      <td>100.0</td>\n",
       "      <td>UTKFace\\100_1_0_20170112213001988.jpg.chip.jpg</td>\n",
       "      <td>6</td>\n",
       "    </tr>\n",
       "    <tr>\n",
       "      <th>4</th>\n",
       "      <td>100.0</td>\n",
       "      <td>UTKFace\\100_1_0_20170112213303693.jpg.chip.jpg</td>\n",
       "      <td>6</td>\n",
       "    </tr>\n",
       "  </tbody>\n",
       "</table>\n",
       "</div>"
      ],
      "text/plain": [
       "     age                                            file  target\n",
       "0  100.0  UTKFace\\100_0_0_20170112213500903.jpg.chip.jpg       6\n",
       "1  100.0  UTKFace\\100_0_0_20170112215240346.jpg.chip.jpg       6\n",
       "2  100.0  UTKFace\\100_1_0_20170110183726390.jpg.chip.jpg       6\n",
       "3  100.0  UTKFace\\100_1_0_20170112213001988.jpg.chip.jpg       6\n",
       "4  100.0  UTKFace\\100_1_0_20170112213303693.jpg.chip.jpg       6"
      ]
     },
     "execution_count": 16,
     "metadata": {},
     "output_type": "execute_result"
    }
   ],
   "source": [
    "df.head()"
   ]
  },
  {
   "cell_type": "code",
   "execution_count": 17,
   "id": "4ad26747",
   "metadata": {},
   "outputs": [
    {
     "data": {
      "text/plain": [
       "<AxesSubplot:>"
      ]
     },
     "execution_count": 17,
     "metadata": {},
     "output_type": "execute_result"
    },
    {
     "data": {
      "image/png": "[encoded data removed]",
      "text/plain": [
       "<Figure size 432x288 with 1 Axes>"
      ]
     },
     "metadata": {
      "needs_background": "light"
     },
     "output_type": "display_data"
    }
   ],
   "source": [
    "df['target'].hist()"
   ]
  },
  {
   "cell_type": "code",
   "execution_count": 18,
   "id": "03f22d61",
   "metadata": {},
   "outputs": [],
   "source": [
    "df = df.sample(frac=0.5)"
   ]
  },
  {
   "cell_type": "code",
   "execution_count": 19,
   "id": "3a387d98",
   "metadata": {},
   "outputs": [
    {
     "data": {
      "text/plain": [
       "<AxesSubplot:>"
      ]
     },
     "execution_count": 19,
     "metadata": {},
     "output_type": "execute_result"
    },
    {
     "data": {
      "image/png": "[encoded data removed]",
      "text/plain": [
       "<Figure size 432x288 with 1 Axes>"
      ]
     },
     "metadata": {
      "needs_background": "light"
     },
     "output_type": "display_data"
    }
   ],
   "source": [
    "df['target'].hist()"
   ]
  },
  {
   "cell_type": "code",
   "execution_count": 20,
   "id": "b00150c1",
   "metadata": {},
   "outputs": [],
   "source": [
    "X_files = df['file']\n",
    "y = df['target']\n",
    "X = []"
   ]
  },
  {
   "cell_type": "code",
   "execution_count": 21,
   "id": "d141e423",
   "metadata": {},
   "outputs": [
    {
     "data": {
      "text/html": [
       "<div>\n",
       "<style scoped>\n",
       "    .dataframe tbody tr th:only-of-type {\n",
       "        vertical-align: middle;\n",
       "    }\n",
       "\n",
       "    .dataframe tbody tr th {\n",
       "        vertical-align: top;\n",
       "    }\n",
       "\n",
       "    .dataframe thead th {\n",
       "        text-align: right;\n",
       "    }\n",
       "</style>\n",
       "<table border=\"1\" class=\"dataframe\">\n",
       "  <thead>\n",
       "    <tr style=\"text-align: right;\">\n",
       "      <th></th>\n",
       "      <th>age</th>\n",
       "      <th>file</th>\n",
       "      <th>target</th>\n",
       "    </tr>\n",
       "  </thead>\n",
       "  <tbody>\n",
       "    <tr>\n",
       "      <th>16381</th>\n",
       "      <td>43.0</td>\n",
       "      <td>UTKFace\\43_1_0_20170117155108211.jpg.chip.jpg</td>\n",
       "      <td>4</td>\n",
       "    </tr>\n",
       "    <tr>\n",
       "      <th>8037</th>\n",
       "      <td>27.0</td>\n",
       "      <td>UTKFace\\27_0_1_20170113155149675.jpg.chip.jpg</td>\n",
       "      <td>3</td>\n",
       "    </tr>\n",
       "    <tr>\n",
       "      <th>8031</th>\n",
       "      <td>27.0</td>\n",
       "      <td>UTKFace\\27_0_1_20170113135628651.jpg.chip.jpg</td>\n",
       "      <td>3</td>\n",
       "    </tr>\n",
       "    <tr>\n",
       "      <th>13782</th>\n",
       "      <td>36.0</td>\n",
       "      <td>UTKFace\\36_0_0_20170119194752299.jpg.chip.jpg</td>\n",
       "      <td>4</td>\n",
       "    </tr>\n",
       "    <tr>\n",
       "      <th>20790</th>\n",
       "      <td>61.0</td>\n",
       "      <td>UTKFace\\61_1_1_20170113001835467.jpg.chip.jpg</td>\n",
       "      <td>5</td>\n",
       "    </tr>\n",
       "  </tbody>\n",
       "</table>\n",
       "</div>"
      ],
      "text/plain": [
       "        age                                           file  target\n",
       "16381  43.0  UTKFace\\43_1_0_20170117155108211.jpg.chip.jpg       4\n",
       "8037   27.0  UTKFace\\27_0_1_20170113155149675.jpg.chip.jpg       3\n",
       "8031   27.0  UTKFace\\27_0_1_20170113135628651.jpg.chip.jpg       3\n",
       "13782  36.0  UTKFace\\36_0_0_20170119194752299.jpg.chip.jpg       4\n",
       "20790  61.0  UTKFace\\61_1_1_20170113001835467.jpg.chip.jpg       5"
      ]
     },
     "execution_count": 21,
     "metadata": {},
     "output_type": "execute_result"
    }
   ],
   "source": [
    "df.head()"
   ]
  },
  {
   "cell_type": "code",
   "execution_count": 22,
   "id": "fb800f21",
   "metadata": {},
   "outputs": [],
   "source": [
    "for img in X_files:\n",
    "    image = cv2.imread(img, cv2.IMREAD_COLOR)\n",
    "    X.append(np.array(image))"
   ]
  },
  {
   "cell_type": "code",
   "execution_count": 23,
   "id": "b594ec1c",
   "metadata": {},
   "outputs": [],
   "source": [
    "label_encoder= LabelEncoder()\n",
    "Y = label_encoder.fit_transform(y)\n",
    "Y = to_categorical(Y,7)"
   ]
  },
  {
   "cell_type": "code",
   "execution_count": 24,
   "id": "a42e6215",
   "metadata": {},
   "outputs": [],
   "source": [
    "X = np.array(X)\n",
    "X = X.astype('float32')\n",
    "X=X/255"
   ]
  },
  {
   "cell_type": "code",
   "execution_count": 25,
   "id": "07756b0d",
   "metadata": {},
   "outputs": [
    {
     "data": {
      "text/plain": [
       "((11854, 200, 200, 3), (11854, 7))"
      ]
     },
     "execution_count": 25,
     "metadata": {},
     "output_type": "execute_result"
    }
   ],
   "source": [
    "X.shape,Y.shape"
   ]
  },
  {
   "cell_type": "code",
   "execution_count": 26,
   "id": "bc097866",
   "metadata": {},
   "outputs": [],
   "source": [
    "X_train, X_test, y_train, y_test = model_selection.train_test_split(X, Y, test_size=0.3, random_state=RANDOM_STATE, stratify=Y)"
   ]
  },
  {
   "cell_type": "code",
   "execution_count": 27,
   "id": "eb0f8f07",
   "metadata": {},
   "outputs": [
    {
     "data": {
      "text/plain": [
       "((8297, 200, 200, 3), (3557, 200, 200, 3), (8297, 7), (3557, 7))"
      ]
     },
     "execution_count": 27,
     "metadata": {},
     "output_type": "execute_result"
    }
   ],
   "source": [
    "X_train.shape, X_test.shape, y_train.shape, y_test.shape"
   ]
  },
  {
   "cell_type": "code",
   "execution_count": 28,
   "id": "66d3e76e",
   "metadata": {},
   "outputs": [],
   "source": [
    "augs_gen = ImageDataGenerator(\n",
    "        featurewise_center=False,  \n",
    "        samplewise_center=False, \n",
    "        featurewise_std_normalization=False,  \n",
    "        samplewise_std_normalization=False,  \n",
    "        zca_whitening=False,  \n",
    "        rotation_range=10,  \n",
    "        zoom_range = 0.1, \n",
    "        width_shift_range=0.2,  \n",
    "        height_shift_range=0.2, \n",
    "        horizontal_flip=True,  \n",
    "        vertical_flip=False,\n",
    "        validation_split=0.3) \n",
    "\n",
    "augs_gen.fit(X_train)"
   ]
  },
  {
   "cell_type": "code",
   "execution_count": 29,
   "id": "50314010",
   "metadata": {},
   "outputs": [
    {
     "data": {
      "text/plain": [
       "((8297, 200, 200, 3), (8297, 7))"
      ]
     },
     "execution_count": 29,
     "metadata": {},
     "output_type": "execute_result"
    }
   ],
   "source": [
    "X_train.shape, y_train.shape"
   ]
  },
  {
   "cell_type": "code",
   "execution_count": 30,
   "id": "f15a4025",
   "metadata": {},
   "outputs": [],
   "source": [
    "nsamples, nx, ny, nz = X_train.shape"
   ]
  },
  {
   "cell_type": "code",
   "execution_count": 31,
   "id": "8e980780",
   "metadata": {},
   "outputs": [
    {
     "data": {
      "text/plain": [
       "(8297, 120000)"
      ]
     },
     "execution_count": 31,
     "metadata": {},
     "output_type": "execute_result"
    }
   ],
   "source": [
    "d2_train = X_train.reshape((nsamples,nx*ny*nz))\n",
    "d2_train.shape"
   ]
  },
  {
   "cell_type": "code",
   "execution_count": 32,
   "id": "da07774e",
   "metadata": {},
   "outputs": [],
   "source": [
    " rus = imblearn.under_sampling.RandomUnderSampler(random_state=RANDOM_STATE, sampling_strategy='auto')"
   ]
  },
  {
   "cell_type": "code",
   "execution_count": 33,
   "id": "03e266df",
   "metadata": {},
   "outputs": [],
   "source": [
    "X_train, y_train = rus.fit_resample(d2_train, y_train)\n",
    "# X_train, y_train = rus.fit_resample(X_train, y_train)"
   ]
  },
  {
   "cell_type": "code",
   "execution_count": 34,
   "id": "243e8a6d",
   "metadata": {},
   "outputs": [
    {
     "data": {
      "text/plain": [
       "((3577, 120000), (3577, 7))"
      ]
     },
     "execution_count": 34,
     "metadata": {},
     "output_type": "execute_result"
    }
   ],
   "source": [
    "X_train.shape, y_train.shape"
   ]
  },
  {
   "cell_type": "code",
   "execution_count": 35,
   "id": "25189642",
   "metadata": {},
   "outputs": [
    {
     "data": {
      "text/plain": [
       "(3577, 200, 200, 3)"
      ]
     },
     "execution_count": 35,
     "metadata": {},
     "output_type": "execute_result"
    }
   ],
   "source": [
    "X_train = X_train.reshape((-1,nx,ny,nz))\n",
    "X_train.shape"
   ]
  },
  {
   "cell_type": "code",
   "execution_count": null,
   "id": "dfec37ba",
   "metadata": {},
   "outputs": [],
   "source": [
    "# net = Sequential()\n",
    "\n",
    "# net.add(Conv2D(filters=32, kernel_size=3, activation='relu', input_shape=(200,200,3)))\n",
    "# BatchNormalization(),\n",
    "# ReLU(),\n",
    "# net.add(MaxPool2D(pool_size=(2,2)))\n",
    "\n",
    "# net.add(Conv2D(filters=64, kernel_size=3, activation='relu'))\n",
    "# BatchNormalization(),\n",
    "# ReLU(),\n",
    "# net.add(MaxPool2D(pool_size=(2,2)))\n",
    "\n",
    "# net.add(Conv2D(filters=128, kernel_size=3, activation='relu'))\n",
    "# BatchNormalization(),\n",
    "# ReLU(),\n",
    "# net.add(MaxPool2D(pool_size=(2,2)))\n",
    "\n",
    "# net.add(Conv2D(filters=256, kernel_size=3, activation='relu'))\n",
    "# BatchNormalization(),\n",
    "# ReLU(),\n",
    "# net.add(MaxPool2D(pool_size=(2,2)))\n",
    "\n",
    "# net.add(Dense(512, activation='relu'))\n",
    "# BatchNormalization(),\n",
    "# ReLU(),\n",
    "# net.add(MaxPool2D(pool_size=(2,2)))\n",
    "\n",
    "# net.add(Dense(1024, activation='relu'))\n",
    "# BatchNormalization(),\n",
    "# ReLU(),\n",
    "# Dropout(0.5),\n",
    "# net.add(Dense(7, activation='softmax'))\n",
    "\n",
    "# net.summary()\n",
    "net = Sequential()\n",
    "\n",
    "net.add(Conv2D(filters=32, kernel_size=3, activation='relu', input_shape=(200,200,3)))\n",
    "net.add(AveragePooling2D(pool_size=(2,2)))\n",
    "\n",
    "net.add(Conv2D(filters=64, kernel_size=3, activation='relu'))\n",
    "net.add(AveragePooling2D(pool_size=(2,2)))\n",
    "\n",
    "net.add(Conv2D(filters=128, kernel_size=3, activation='relu'))\n",
    "net.add(AveragePooling2D(pool_size=(2,2)))\n",
    "\n",
    "net.add(Conv2D(filters=256, kernel_size=3, activation='relu'))\n",
    "net.add(AveragePooling2D(pool_size=(2,2)))\n",
    "\n",
    "net.add(GlobalAveragePooling2D())\n",
    "\n",
    "net.add(Dense(132, activation='relu'))\n",
    "net.add(Dense(7, activation='softmax'))\n",
    "\n",
    "net.summary()"
   ]
  },
  {
   "cell_type": "code",
   "execution_count": null,
   "id": "1a9b4fa7",
   "metadata": {},
   "outputs": [],
   "source": [
    "net.compile(loss='categorical_crossentropy', optimizer=Adam(learning_rate=0.01), metrics=['accuracy'])"
   ]
  },
  {
   "cell_type": "code",
   "execution_count": null,
   "id": "e6a50c23",
   "metadata": {},
   "outputs": [],
   "source": [
    "X_train.shape, y_train.shape"
   ]
  },
  {
   "cell_type": "code",
   "execution_count": null,
   "id": "48018c13",
   "metadata": {},
   "outputs": [],
   "source": [
    "history = net.fit(\n",
    "                    augs_gen.flow(X_train, y_train, batch_size = 32,  subset='training'),\n",
    "                    epochs = num_of_epochs,\n",
    "                    verbose = 1,\n",
    "                    validation_data  = augs_gen.flow(X_train, y_train, batch_size=8, subset='validation'),\n",
    "                    )"
   ]
  },
  {
   "cell_type": "code",
   "execution_count": null,
   "id": "82948724",
   "metadata": {},
   "outputs": [],
   "source": [
    "# model = Sequential([\n",
    "#     Conv2D(filters=96, kernel_size=(11,11), strides=(4,4), activation='relu', input_shape=(200,200,3)),\n",
    "#     BatchNormalization(),\n",
    "#     MaxPool2D(pool_size=(3,3), strides=(2,2)),\n",
    "#     Conv2D(filters=256, kernel_size=(5,5), strides=(1,1), activation='relu', padding=\"same\"),\n",
    "#     BatchNormalization(),\n",
    "#     MaxPool2D(pool_size=(3,3), strides=(2,2)),\n",
    "#     Conv2D(filters=384, kernel_size=(3,3), strides=(1,1), activation='relu', padding=\"same\"),\n",
    "#     BatchNormalization(),\n",
    "#     MaxPool2D(pool_size=(3,3), strides=(2,2)),\n",
    "#     Conv2D(filters=384, kernel_size=(3,3), strides=(1,1), activation='relu', padding=\"same\"),\n",
    "#     BatchNormalization(),\n",
    "#     MaxPool2D(pool_size=(3,3), strides=(2,2)),\n",
    "#     Dense(4096, activation='relu'),\n",
    "#     BatchNormalization(),\n",
    "#     Dropout(0.5),\n",
    "#     GlobalAveragePooling2D(),\n",
    "#     Dropout(0.5),\n",
    "#     Dense(128, activation='relu'),\n",
    "#     Dense(7, activation='softmax')\n",
    "#                                   ])\n",
    "# model.summary()"
   ]
  },
  {
   "cell_type": "code",
   "execution_count": null,
   "id": "ebc41fba",
   "metadata": {},
   "outputs": [],
   "source": [
    "# model.compile(loss='categorical_crossentropy', optimizer=Adam(learning_rate=0.001), metrics=['accuracy'])"
   ]
  },
  {
   "cell_type": "code",
   "execution_count": null,
   "id": "535f7748",
   "metadata": {},
   "outputs": [],
   "source": [
    "# hi = model.fit(\n",
    "#                     augs_gen.flow(X_train, y_train, batch_size = 32,  subset='training'),\n",
    "#                     epochs = num_of_epochs,\n",
    "#                     verbose = 1,\n",
    "#                     validation_data  = augs_gen.flow(X_train, y_train, batch_size=8, subset='validation'),\n",
    "#                     )"
   ]
  },
  {
   "cell_type": "code",
   "execution_count": null,
   "id": "fb279d10",
   "metadata": {},
   "outputs": [],
   "source": []
  },
  {
   "cell_type": "code",
   "execution_count": null,
   "id": "47cba4bd",
   "metadata": {},
   "outputs": [],
   "source": [
    "# model3 = Sequential([\n",
    "#     Conv2D(filters=96, kernel_size=(11,11), strides=(4,4), activation='relu', input_shape=(200,200,3)),\n",
    "#     BatchNormalization(),\n",
    "#     MaxPool2D(pool_size=(3,3), strides=(2,2)),\n",
    "#     Conv2D(filters=256, kernel_size=(5,5), strides=(1,1), activation='relu', padding=\"same\"),\n",
    "#     BatchNormalization(),\n",
    "#     MaxPool2D(pool_size=(3,3), strides=(2,2)),\n",
    "#     Conv2D(filters=384, kernel_size=(3,3), strides=(1,1), activation='relu', padding=\"same\"),\n",
    "#     BatchNormalization(),\n",
    "#     Conv2D(filters=384, kernel_size=(3,3), strides=(1,1), activation='relu', padding=\"same\"),\n",
    "#     BatchNormalization(),\n",
    "#     Conv2D(filters=256, kernel_size=(3,3), strides=(1,1), activation='relu', padding=\"same\"),\n",
    "#     BatchNormalization(),\n",
    "#     MaxPool2D(pool_size=(3,3), strides=(2,2)),\n",
    "#     Flatten(),\n",
    "#     Dense(4096, activation='relu'),\n",
    "#     Dropout(0.5),\n",
    "#     Dense(4096, activation='relu'),\n",
    "#     Dropout(0.5),\n",
    "#     Dense(7, activation='softmax')\n",
    "                                  ])"
   ]
  },
  {
   "cell_type": "code",
   "execution_count": null,
   "id": "8c74193a",
   "metadata": {},
   "outputs": [],
   "source": []
  },
  {
   "cell_type": "code",
   "execution_count": null,
   "id": "814827d6",
   "metadata": {},
   "outputs": [],
   "source": []
  }
 ],
 "metadata": {
  "kernelspec": {
   "display_name": "Python 3 (ipykernel)",
   "language": "python",
   "name": "python3"
  },
  "language_info": {
   "codemirror_mode": {
    "name": "ipython",
    "version": 3
   },
   "file_extension": ".py",
   "mimetype": "text/x-python",
   "name": "python",
   "nbconvert_exporter": "python",
   "pygments_lexer": "ipython3",
   "version": "3.8.13"
  }
 },
 "nbformat": 4,
 "nbformat_minor": 5
}
