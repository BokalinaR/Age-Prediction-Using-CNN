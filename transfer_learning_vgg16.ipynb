{
 "cells": [
  {
   "cell_type": "code",
   "execution_count": 1,
   "id": "85bc4896",
   "metadata": {
    "id": "85bc4896"
   },
   "outputs": [],
   "source": [
    "import pandas as pd\n",
    "import numpy as np\n",
    "import glob, os, cv2\n",
    "from matplotlib import pyplot as plt"
   ]
  },
  {
   "cell_type": "code",
   "execution_count": 41,
   "id": "64b3f2b9",
   "metadata": {
    "id": "64b3f2b9"
   },
   "outputs": [],
   "source": [
    "from sklearn import preprocessing\n",
    "from sklearn import model_selection\n",
    "from sklearn import linear_model\n",
    "from sklearn import metrics\n",
    "from sklearn.preprocessing import LabelEncoder\n",
    "from sklearn.metrics import confusion_matrix, classification_report"
   ]
  },
  {
   "cell_type": "code",
   "execution_count": 3,
   "id": "bba4d0dd",
   "metadata": {
    "id": "bba4d0dd"
   },
   "outputs": [
    {
     "name": "stderr",
     "output_type": "stream",
     "text": [
      "2022-09-01 11:50:47.033868: W tensorflow/stream_executor/platform/default/dso_loader.cc:64] Could not load dynamic library 'libcudart.so.11.0'; dlerror: libcudart.so.11.0: cannot open shared object file: No such file or directory; LD_LIBRARY_PATH: /home/rtrk/.local/lib/python3.8/site-packages/cv2/../../lib64:/opt/ros/noetic/lib\n",
      "2022-09-01 11:50:47.033885: I tensorflow/stream_executor/cuda/cudart_stub.cc:29] Ignore above cudart dlerror if you do not have a GPU set up on your machine.\n"
     ]
    }
   ],
   "source": [
    "from keras import backend as K\n",
    "from keras import regularizers\n",
    "from keras.utils.np_utils import to_categorical\n",
    "from keras.models import Sequential,Model,load_model\n",
    "from keras.layers import Dense,Input,Flatten,Dropout,Concatenate,GlobalAveragePooling2D,Lambda,ZeroPadding2D,BatchNormalization,MaxPool2D\n",
    "from keras.layers import SeparableConv2D,BatchNormalization,MaxPooling2D,Conv2D,AveragePooling2D,ReLU\n",
    "from keras.applications.vgg16 import VGG16, preprocess_input\n",
    "from keras.callbacks import EarlyStopping,CSVLogger,ReduceLROnPlateau"
   ]
  },
  {
   "cell_type": "code",
   "execution_count": 4,
   "id": "35e2e9ec",
   "metadata": {
    "id": "35e2e9ec"
   },
   "outputs": [],
   "source": [
    "from tensorflow.keras.losses import CategoricalCrossentropy\n",
    "from tensorflow.keras.optimizers import Adam"
   ]
  },
  {
   "cell_type": "code",
   "execution_count": 36,
   "id": "bf8218aa",
   "metadata": {
    "id": "bf8218aa"
   },
   "outputs": [],
   "source": [
    "RANDOM_STATE = 54\n",
    "DIRECTORY = \"UTKFace/\"\n",
    "NUM_OF_EPOCHES = 30\n",
    "CLASSES_NAMES = [0,1,2,3,4,5,6,7,8]"
   ]
  },
  {
   "cell_type": "code",
   "execution_count": 6,
   "id": "513d52e3",
   "metadata": {
    "id": "513d52e3"
   },
   "outputs": [],
   "source": [
    "# first number before _ in filenames of images are person's age (in 39_1_20170116174525125.jpg.chip.jpg 39 is the age)\n",
    "# parsing and returning age for each image in directory\n",
    "def parse_filepath(filepath):\n",
    "    try:\n",
    "        path, filename = os.path.split(filepath)\n",
    "        filename, ext = os.path.splitext(filename)\n",
    "        age, gender, race, _ = filename.split(\"_\")\n",
    "        return int(age)\n",
    "    except Exception as e:\n",
    "        print(filepath)\n",
    "        return None"
   ]
  },
  {
   "cell_type": "code",
   "execution_count": 7,
   "id": "9aac2dcf",
   "metadata": {
    "colab": {
     "base_uri": "https://localhost:8080/"
    },
    "id": "9aac2dcf",
    "outputId": "e7a6bb47-397f-4efc-e2fd-fc23b9385220"
   },
   "outputs": [
    {
     "name": "stdout",
     "output_type": "stream",
     "text": [
      "UTKFace/39_1_20170116174525125.jpg.chip.jpg\n",
      "UTKFace/61_1_20170109150557335.jpg.chip.jpg\n",
      "UTKFace/61_1_20170109142408075.jpg.chip.jpg\n"
     ]
    }
   ],
   "source": [
    "files = glob.glob(os.path.join(DIRECTORY, \"*.jpg\"))\n",
    "data = list(map(parse_filepath, files))"
   ]
  },
  {
   "cell_type": "code",
   "execution_count": 8,
   "id": "6c45bc3b",
   "metadata": {
    "colab": {
     "base_uri": "https://localhost:8080/",
     "height": 206
    },
    "id": "6c45bc3b",
    "outputId": "74f09675-cb4d-4660-c736-dc2d4591c1e6",
    "scrolled": false
   },
   "outputs": [
    {
     "data": {
      "text/html": [
       "<div>\n",
       "<style scoped>\n",
       "    .dataframe tbody tr th:only-of-type {\n",
       "        vertical-align: middle;\n",
       "    }\n",
       "\n",
       "    .dataframe tbody tr th {\n",
       "        vertical-align: top;\n",
       "    }\n",
       "\n",
       "    .dataframe thead th {\n",
       "        text-align: right;\n",
       "    }\n",
       "</style>\n",
       "<table border=\"1\" class=\"dataframe\">\n",
       "  <thead>\n",
       "    <tr style=\"text-align: right;\">\n",
       "      <th></th>\n",
       "      <th>age</th>\n",
       "      <th>file</th>\n",
       "    </tr>\n",
       "  </thead>\n",
       "  <tbody>\n",
       "    <tr>\n",
       "      <th>2158</th>\n",
       "      <td>1.0</td>\n",
       "      <td>UTKFace/1_1_2_20161219210955701.jpg.chip.jpg</td>\n",
       "    </tr>\n",
       "    <tr>\n",
       "      <th>20345</th>\n",
       "      <td>1.0</td>\n",
       "      <td>UTKFace/1_0_0_20161219200338012.jpg.chip.jpg</td>\n",
       "    </tr>\n",
       "    <tr>\n",
       "      <th>21263</th>\n",
       "      <td>1.0</td>\n",
       "      <td>UTKFace/1_1_0_20170109192728714.jpg.chip.jpg</td>\n",
       "    </tr>\n",
       "    <tr>\n",
       "      <th>16335</th>\n",
       "      <td>1.0</td>\n",
       "      <td>UTKFace/1_0_1_20170110213808936.jpg.chip.jpg</td>\n",
       "    </tr>\n",
       "    <tr>\n",
       "      <th>15811</th>\n",
       "      <td>1.0</td>\n",
       "      <td>UTKFace/1_0_3_20161219225723376.jpg.chip.jpg</td>\n",
       "    </tr>\n",
       "  </tbody>\n",
       "</table>\n",
       "</div>"
      ],
      "text/plain": [
       "       age                                          file\n",
       "2158   1.0  UTKFace/1_1_2_20161219210955701.jpg.chip.jpg\n",
       "20345  1.0  UTKFace/1_0_0_20161219200338012.jpg.chip.jpg\n",
       "21263  1.0  UTKFace/1_1_0_20170109192728714.jpg.chip.jpg\n",
       "16335  1.0  UTKFace/1_0_1_20170110213808936.jpg.chip.jpg\n",
       "15811  1.0  UTKFace/1_0_3_20161219225723376.jpg.chip.jpg"
      ]
     },
     "execution_count": 8,
     "metadata": {},
     "output_type": "execute_result"
    }
   ],
   "source": [
    "# making data frame with images and ages\n",
    "df = pd.DataFrame(data)\n",
    "df['file'] = files\n",
    "df.columns = ['age', 'file']\n",
    "df = df.sort_values(by=['age'])\n",
    "df = df.dropna()\n",
    "df.head()"
   ]
  },
  {
   "cell_type": "code",
   "execution_count": 9,
   "id": "4a83a299",
   "metadata": {
    "colab": {
     "base_uri": "https://localhost:8080/"
    },
    "id": "4a83a299",
    "outputId": "92c24768-400c-410a-d84a-22746c814ba0"
   },
   "outputs": [
    {
     "data": {
      "text/plain": [
       "(23705, 2)"
      ]
     },
     "execution_count": 9,
     "metadata": {},
     "output_type": "execute_result"
    }
   ],
   "source": [
    "df.shape"
   ]
  },
  {
   "cell_type": "code",
   "execution_count": 10,
   "id": "55098e02",
   "metadata": {
    "id": "55098e02"
   },
   "outputs": [],
   "source": [
    "# grouping age in 9 intervals\n",
    "def class_label(age):\n",
    "    if 1 <= age <= 2:\n",
    "        return 0\n",
    "    elif 3 <= age <= 10:\n",
    "        return 1\n",
    "    elif 11 <= age <= 20:\n",
    "        return 2\n",
    "    elif 21 <= age <= 27:\n",
    "        return 3\n",
    "    elif 28 <= age <= 35:\n",
    "        return 4\n",
    "    elif 36 <= age <= 45:\n",
    "        return 5\n",
    "    elif 45 <= age <= 53:\n",
    "        return 6\n",
    "    elif 54 <= age <= 65:\n",
    "        return 7\n",
    "    else:\n",
    "        return 8\n"
   ]
  },
  {
   "cell_type": "code",
   "execution_count": 11,
   "id": "fd4dc606",
   "metadata": {
    "id": "fd4dc606"
   },
   "outputs": [],
   "source": [
    "df['target'] = df['age'].map(class_label)"
   ]
  },
  {
   "cell_type": "code",
   "execution_count": 12,
   "id": "828c9404",
   "metadata": {
    "id": "828c9404"
   },
   "outputs": [],
   "source": [
    "# data is not balanced, so we are undersampling by taking 1600 random instances of the most numerous classes\n",
    "class_3 = df[4878:10449].sample(frac=1)[:1600]\n",
    "class_4 = df[10451:15107].sample(frac=1)[:1600]\n",
    "class_5 = df[15108:18094].sample(frac=1)[:1600]\n",
    "class_7 = df[19710:22006].sample(frac=1)[:1600]"
   ]
  },
  {
   "cell_type": "code",
   "execution_count": 13,
   "id": "f343a146",
   "metadata": {
    "id": "f343a146"
   },
   "outputs": [],
   "source": [
    "# deleting all instances of the most numerous classes\n",
    "df = df.drop(df[df['target']==3].index)\n",
    "df = df.drop(df[df['target']==4].index)\n",
    "df = df.drop(df[df['target']==5].index)\n",
    "df = df.drop(df[df['target']==7].index)"
   ]
  },
  {
   "cell_type": "code",
   "execution_count": 14,
   "id": "351ebbd2",
   "metadata": {
    "id": "351ebbd2"
   },
   "outputs": [],
   "source": [
    "# adding 1600 of each\n",
    "df = pd.concat([df,class_3])\n",
    "df = pd.concat([df,class_4])\n",
    "df = pd.concat([df,class_5])\n",
    "df = pd.concat([df,class_7])"
   ]
  },
  {
   "cell_type": "code",
   "execution_count": 15,
   "id": "10068153",
   "metadata": {
    "colab": {
     "base_uri": "https://localhost:8080/"
    },
    "id": "10068153",
    "outputId": "f0bdf229-3169-43af-a2ff-a4144323bd1c"
   },
   "outputs": [
    {
     "data": {
      "text/plain": [
       "(14592, 3)"
      ]
     },
     "execution_count": 15,
     "metadata": {},
     "output_type": "execute_result"
    }
   ],
   "source": [
    "df.shape"
   ]
  },
  {
   "cell_type": "code",
   "execution_count": 16,
   "id": "78f6d060",
   "metadata": {
    "id": "78f6d060"
   },
   "outputs": [],
   "source": [
    "X_files = df['file']\n",
    "y = df['target']\n",
    "X = []"
   ]
  },
  {
   "cell_type": "code",
   "execution_count": 17,
   "id": "4197cf99",
   "metadata": {
    "colab": {
     "base_uri": "https://localhost:8080/",
     "height": 206
    },
    "id": "4197cf99",
    "outputId": "ff5e8f83-ea44-4a97-efc4-264774dd7b6f"
   },
   "outputs": [
    {
     "data": {
      "text/html": [
       "<div>\n",
       "<style scoped>\n",
       "    .dataframe tbody tr th:only-of-type {\n",
       "        vertical-align: middle;\n",
       "    }\n",
       "\n",
       "    .dataframe tbody tr th {\n",
       "        vertical-align: top;\n",
       "    }\n",
       "\n",
       "    .dataframe thead th {\n",
       "        text-align: right;\n",
       "    }\n",
       "</style>\n",
       "<table border=\"1\" class=\"dataframe\">\n",
       "  <thead>\n",
       "    <tr style=\"text-align: right;\">\n",
       "      <th></th>\n",
       "      <th>age</th>\n",
       "      <th>file</th>\n",
       "      <th>target</th>\n",
       "    </tr>\n",
       "  </thead>\n",
       "  <tbody>\n",
       "    <tr>\n",
       "      <th>2158</th>\n",
       "      <td>1.0</td>\n",
       "      <td>UTKFace/1_1_2_20161219210955701.jpg.chip.jpg</td>\n",
       "      <td>0</td>\n",
       "    </tr>\n",
       "    <tr>\n",
       "      <th>20345</th>\n",
       "      <td>1.0</td>\n",
       "      <td>UTKFace/1_0_0_20161219200338012.jpg.chip.jpg</td>\n",
       "      <td>0</td>\n",
       "    </tr>\n",
       "    <tr>\n",
       "      <th>21263</th>\n",
       "      <td>1.0</td>\n",
       "      <td>UTKFace/1_1_0_20170109192728714.jpg.chip.jpg</td>\n",
       "      <td>0</td>\n",
       "    </tr>\n",
       "    <tr>\n",
       "      <th>16335</th>\n",
       "      <td>1.0</td>\n",
       "      <td>UTKFace/1_0_1_20170110213808936.jpg.chip.jpg</td>\n",
       "      <td>0</td>\n",
       "    </tr>\n",
       "    <tr>\n",
       "      <th>15811</th>\n",
       "      <td>1.0</td>\n",
       "      <td>UTKFace/1_0_3_20161219225723376.jpg.chip.jpg</td>\n",
       "      <td>0</td>\n",
       "    </tr>\n",
       "  </tbody>\n",
       "</table>\n",
       "</div>"
      ],
      "text/plain": [
       "       age                                          file  target\n",
       "2158   1.0  UTKFace/1_1_2_20161219210955701.jpg.chip.jpg       0\n",
       "20345  1.0  UTKFace/1_0_0_20161219200338012.jpg.chip.jpg       0\n",
       "21263  1.0  UTKFace/1_1_0_20170109192728714.jpg.chip.jpg       0\n",
       "16335  1.0  UTKFace/1_0_1_20170110213808936.jpg.chip.jpg       0\n",
       "15811  1.0  UTKFace/1_0_3_20161219225723376.jpg.chip.jpg       0"
      ]
     },
     "execution_count": 17,
     "metadata": {},
     "output_type": "execute_result"
    }
   ],
   "source": [
    "df.head()"
   ]
  },
  {
   "cell_type": "code",
   "execution_count": 18,
   "id": "b37a51f5",
   "metadata": {
    "id": "b37a51f5"
   },
   "outputs": [],
   "source": [
    "for img in X_files:\n",
    "    image = cv2.imread(img, cv2.IMREAD_COLOR)\n",
    "    X.append(np.array(image))"
   ]
  },
  {
   "cell_type": "code",
   "execution_count": 19,
   "id": "fcc58ae5",
   "metadata": {
    "id": "fcc58ae5"
   },
   "outputs": [],
   "source": [
    "label_encoder= LabelEncoder()\n",
    "Y = label_encoder.fit_transform(y)\n",
    "Y = to_categorical(Y,9)"
   ]
  },
  {
   "cell_type": "code",
   "execution_count": 20,
   "id": "7c8a2540",
   "metadata": {
    "id": "7c8a2540"
   },
   "outputs": [],
   "source": [
    "X = np.array(X)\n",
    "X = preprocess_input(X)"
   ]
  },
  {
   "cell_type": "code",
   "execution_count": 21,
   "id": "eadd521e",
   "metadata": {
    "id": "eadd521e"
   },
   "outputs": [
    {
     "data": {
      "text/plain": [
       "((14592, 200, 200, 3), (14592, 9))"
      ]
     },
     "execution_count": 21,
     "metadata": {},
     "output_type": "execute_result"
    }
   ],
   "source": [
    "X.shape,Y.shape"
   ]
  },
  {
   "cell_type": "code",
   "execution_count": 22,
   "id": "7ebf3a63",
   "metadata": {
    "id": "7ebf3a63"
   },
   "outputs": [],
   "source": [
    "X_train, X_test, y_train, y_test = model_selection.train_test_split(X, Y, test_size=0.33, stratify=Y, random_state=RANDOM_STATE)"
   ]
  },
  {
   "cell_type": "code",
   "execution_count": 23,
   "id": "56ad1e72",
   "metadata": {
    "id": "56ad1e72"
   },
   "outputs": [
    {
     "data": {
      "text/plain": [
       "((9776, 200, 200, 3), (4816, 200, 200, 3), (9776, 9), (4816, 9))"
      ]
     },
     "execution_count": 23,
     "metadata": {},
     "output_type": "execute_result"
    }
   ],
   "source": [
    "X_train.shape, X_test.shape, y_train.shape, y_test.shape"
   ]
  },
  {
   "cell_type": "code",
   "execution_count": 24,
   "id": "34787c9c",
   "metadata": {
    "id": "34787c9c"
   },
   "outputs": [],
   "source": [
    "reduce = ReduceLROnPlateau(\n",
    "    monitor='val_loss',\n",
    "    factor=0.5,\n",
    "    patience=5,\n",
    "    verbose=1\n",
    ")\n",
    "\n",
    "stop = EarlyStopping(\n",
    "    monitor=\"val_loss\",\n",
    "    patience=4,\n",
    "    verbose=1,\n",
    "    restore_best_weights=False,\n",
    ")\n",
    "\n",
    "callbacks = [reduce, stop]"
   ]
  },
  {
   "cell_type": "code",
   "execution_count": 25,
   "id": "afe99e9a",
   "metadata": {
    "id": "afe99e9a"
   },
   "outputs": [
    {
     "name": "stdout",
     "output_type": "stream",
     "text": [
      "Downloading data from https://storage.googleapis.com/tensorflow/keras-applications/vgg16/vgg16_weights_tf_dim_ordering_tf_kernels_notop.h5\n"
     ]
    },
    {
     "name": "stderr",
     "output_type": "stream",
     "text": [
      "2022-09-01 11:51:05.655811: I tensorflow/stream_executor/cuda/cuda_gpu_executor.cc:936] successful NUMA node read from SysFS had negative value (-1), but there must be at least one NUMA node, so returning NUMA node zero\n",
      "2022-09-01 11:51:05.656604: W tensorflow/stream_executor/platform/default/dso_loader.cc:64] Could not load dynamic library 'libcudart.so.11.0'; dlerror: libcudart.so.11.0: cannot open shared object file: No such file or directory; LD_LIBRARY_PATH: /home/rtrk/.local/lib/python3.8/site-packages/cv2/../../lib64:/opt/ros/noetic/lib\n",
      "2022-09-01 11:51:05.656712: W tensorflow/stream_executor/platform/default/dso_loader.cc:64] Could not load dynamic library 'libcublas.so.11'; dlerror: libcublas.so.11: cannot open shared object file: No such file or directory; LD_LIBRARY_PATH: /home/rtrk/.local/lib/python3.8/site-packages/cv2/../../lib64:/opt/ros/noetic/lib\n",
      "2022-09-01 11:51:05.656791: W tensorflow/stream_executor/platform/default/dso_loader.cc:64] Could not load dynamic library 'libcublasLt.so.11'; dlerror: libcublasLt.so.11: cannot open shared object file: No such file or directory; LD_LIBRARY_PATH: /home/rtrk/.local/lib/python3.8/site-packages/cv2/../../lib64:/opt/ros/noetic/lib\n",
      "2022-09-01 11:51:05.660971: W tensorflow/stream_executor/platform/default/dso_loader.cc:64] Could not load dynamic library 'libcusolver.so.11'; dlerror: libcusolver.so.11: cannot open shared object file: No such file or directory; LD_LIBRARY_PATH: /home/rtrk/.local/lib/python3.8/site-packages/cv2/../../lib64:/opt/ros/noetic/lib\n",
      "2022-09-01 11:51:05.661083: W tensorflow/stream_executor/platform/default/dso_loader.cc:64] Could not load dynamic library 'libcusparse.so.11'; dlerror: libcusparse.so.11: cannot open shared object file: No such file or directory; LD_LIBRARY_PATH: /home/rtrk/.local/lib/python3.8/site-packages/cv2/../../lib64:/opt/ros/noetic/lib\n",
      "2022-09-01 11:51:05.661183: W tensorflow/stream_executor/platform/default/dso_loader.cc:64] Could not load dynamic library 'libcudnn.so.8'; dlerror: libcudnn.so.8: cannot open shared object file: No such file or directory; LD_LIBRARY_PATH: /home/rtrk/.local/lib/python3.8/site-packages/cv2/../../lib64:/opt/ros/noetic/lib\n",
      "2022-09-01 11:51:05.661197: W tensorflow/core/common_runtime/gpu/gpu_device.cc:1850] Cannot dlopen some GPU libraries. Please make sure the missing libraries mentioned above are installed properly if you would like to use GPU. Follow the guide at https://www.tensorflow.org/install/gpu for how to download and setup the required libraries for your platform.\n",
      "Skipping registering GPU devices...\n",
      "2022-09-01 11:51:05.661781: I tensorflow/core/platform/cpu_feature_guard.cc:151] This TensorFlow binary is optimized with oneAPI Deep Neural Network Library (oneDNN) to use the following CPU instructions in performance-critical operations:  AVX2 FMA\n",
      "To enable them in other operations, rebuild TensorFlow with the appropriate compiler flags.\n"
     ]
    },
    {
     "name": "stdout",
     "output_type": "stream",
     "text": [
      "58892288/58889256 [==============================] - 5s 0us/step\n",
      "58900480/58889256 [==============================] - 5s 0us/step\n"
     ]
    }
   ],
   "source": [
    "VGG16_model = VGG16(weights='imagenet', include_top=False, input_shape=(200, 200, 3))"
   ]
  },
  {
   "cell_type": "code",
   "execution_count": 26,
   "id": "d77c4810",
   "metadata": {
    "id": "d77c4810"
   },
   "outputs": [
    {
     "name": "stdout",
     "output_type": "stream",
     "text": [
      "Model: \"model\"\n",
      "_________________________________________________________________\n",
      " Layer (type)                Output Shape              Param #   \n",
      "=================================================================\n",
      " input_1 (InputLayer)        [(None, 200, 200, 3)]     0         \n",
      "                                                                 \n",
      " block1_conv1 (Conv2D)       (None, 200, 200, 64)      1792      \n",
      "                                                                 \n",
      " block1_conv2 (Conv2D)       (None, 200, 200, 64)      36928     \n",
      "                                                                 \n",
      " block1_pool (MaxPooling2D)  (None, 100, 100, 64)      0         \n",
      "                                                                 \n",
      " block2_conv1 (Conv2D)       (None, 100, 100, 128)     73856     \n",
      "                                                                 \n",
      " block2_conv2 (Conv2D)       (None, 100, 100, 128)     147584    \n",
      "                                                                 \n",
      " block2_pool (MaxPooling2D)  (None, 50, 50, 128)       0         \n",
      "                                                                 \n",
      " block3_conv1 (Conv2D)       (None, 50, 50, 256)       295168    \n",
      "                                                                 \n",
      " block3_conv2 (Conv2D)       (None, 50, 50, 256)       590080    \n",
      "                                                                 \n",
      " block3_conv3 (Conv2D)       (None, 50, 50, 256)       590080    \n",
      "                                                                 \n",
      " block3_pool (MaxPooling2D)  (None, 25, 25, 256)       0         \n",
      "                                                                 \n",
      " block4_conv1 (Conv2D)       (None, 25, 25, 512)       1180160   \n",
      "                                                                 \n",
      " block4_conv2 (Conv2D)       (None, 25, 25, 512)       2359808   \n",
      "                                                                 \n",
      " block4_conv3 (Conv2D)       (None, 25, 25, 512)       2359808   \n",
      "                                                                 \n",
      " block4_pool (MaxPooling2D)  (None, 12, 12, 512)       0         \n",
      "                                                                 \n",
      " block5_conv1 (Conv2D)       (None, 12, 12, 512)       2359808   \n",
      "                                                                 \n",
      " block5_conv2 (Conv2D)       (None, 12, 12, 512)       2359808   \n",
      "                                                                 \n",
      " block5_conv3 (Conv2D)       (None, 12, 12, 512)       2359808   \n",
      "                                                                 \n",
      " block5_pool (MaxPooling2D)  (None, 6, 6, 512)         0         \n",
      "                                                                 \n",
      " global_average_pooling2d (G  (None, 512)              0         \n",
      " lobalAveragePooling2D)                                          \n",
      "                                                                 \n",
      " flatten (Flatten)           (None, 512)               0         \n",
      "                                                                 \n",
      " dense (Dense)               (None, 256)               131328    \n",
      "                                                                 \n",
      " dropout (Dropout)           (None, 256)               0         \n",
      "                                                                 \n",
      " dense_1 (Dense)             (None, 9)                 2313      \n",
      "                                                                 \n",
      "=================================================================\n",
      "Total params: 14,848,329\n",
      "Trainable params: 133,641\n",
      "Non-trainable params: 14,714,688\n",
      "_________________________________________________________________\n"
     ]
    }
   ],
   "source": [
    "for layer in VGG16_model.layers:\n",
    "    layer.trainable = False\n",
    "\n",
    "x = VGG16_model.output\n",
    "x = GlobalAveragePooling2D()(x)\n",
    "x = Flatten()(x)\n",
    "x = Dense(units=256, activation='relu', kernel_regularizer=regularizers.l2(0.01))(x)\n",
    "x = Dropout(0.5)(x)\n",
    "output  = Dense(units=9, activation='softmax')(x)\n",
    "model = Model(VGG16_model.input, output)\n",
    "\n",
    "\n",
    "model.summary()"
   ]
  },
  {
   "cell_type": "code",
   "execution_count": 27,
   "id": "39a4a294",
   "metadata": {
    "id": "39a4a294"
   },
   "outputs": [
    {
     "name": "stdout",
     "output_type": "stream",
     "text": [
      "Epoch 1/30\n"
     ]
    },
    {
     "name": "stderr",
     "output_type": "stream",
     "text": [
      "2022-09-01 11:51:11.374261: W tensorflow/core/framework/cpu_allocator_impl.cc:82] Allocation of 3753600000 exceeds 10% of free system memory.\n"
     ]
    },
    {
     "name": "stdout",
     "output_type": "stream",
     "text": [
      "245/245 [==============================] - ETA: 0s - loss: 4.2757 - accuracy: 0.3107"
     ]
    },
    {
     "name": "stderr",
     "output_type": "stream",
     "text": [
      "2022-09-01 11:58:07.884731: W tensorflow/core/framework/cpu_allocator_impl.cc:82] Allocation of 938880000 exceeds 10% of free system memory.\n"
     ]
    },
    {
     "name": "stdout",
     "output_type": "stream",
     "text": [
      "245/245 [==============================] - 520s 2s/step - loss: 4.2757 - accuracy: 0.3107 - val_loss: 2.7990 - val_accuracy: 0.4141 - lr: 0.0010\n",
      "Epoch 2/30\n",
      "245/245 [==============================] - 523s 2s/step - loss: 2.4639 - accuracy: 0.3958 - val_loss: 2.0588 - val_accuracy: 0.4294 - lr: 0.0010\n",
      "Epoch 3/30\n",
      "245/245 [==============================] - 524s 2s/step - loss: 1.9827 - accuracy: 0.4176 - val_loss: 1.7689 - val_accuracy: 0.4417 - lr: 0.0010\n",
      "Epoch 4/30\n",
      "245/245 [==============================] - 522s 2s/step - loss: 1.7647 - accuracy: 0.4322 - val_loss: 1.6249 - val_accuracy: 0.4463 - lr: 0.0010\n",
      "Epoch 5/30\n",
      "245/245 [==============================] - 524s 2s/step - loss: 1.6703 - accuracy: 0.4292 - val_loss: 1.5499 - val_accuracy: 0.4596 - lr: 0.0010\n",
      "Epoch 6/30\n",
      "245/245 [==============================] - 523s 2s/step - loss: 1.6137 - accuracy: 0.4412 - val_loss: 1.5157 - val_accuracy: 0.4678 - lr: 0.0010\n",
      "Epoch 7/30\n",
      "245/245 [==============================] - 522s 2s/step - loss: 1.5719 - accuracy: 0.4494 - val_loss: 1.4919 - val_accuracy: 0.4647 - lr: 0.0010\n",
      "Epoch 8/30\n",
      "245/245 [==============================] - 523s 2s/step - loss: 1.5496 - accuracy: 0.4410 - val_loss: 1.4902 - val_accuracy: 0.4591 - lr: 0.0010\n",
      "Epoch 9/30\n",
      "245/245 [==============================] - 526s 2s/step - loss: 1.5422 - accuracy: 0.4480 - val_loss: 1.4720 - val_accuracy: 0.4622 - lr: 0.0010\n",
      "Epoch 10/30\n",
      "245/245 [==============================] - 524s 2s/step - loss: 1.5253 - accuracy: 0.4490 - val_loss: 1.4634 - val_accuracy: 0.4540 - lr: 0.0010\n",
      "Epoch 11/30\n",
      "245/245 [==============================] - 522s 2s/step - loss: 1.5208 - accuracy: 0.4524 - val_loss: 1.4836 - val_accuracy: 0.4647 - lr: 0.0010\n",
      "Epoch 12/30\n",
      "245/245 [==============================] - 526s 2s/step - loss: 1.5100 - accuracy: 0.4550 - val_loss: 1.4872 - val_accuracy: 0.4427 - lr: 0.0010\n",
      "Epoch 13/30\n",
      "245/245 [==============================] - 523s 2s/step - loss: 1.5148 - accuracy: 0.4505 - val_loss: 1.4453 - val_accuracy: 0.4617 - lr: 0.0010\n",
      "Epoch 14/30\n",
      "245/245 [==============================] - 523s 2s/step - loss: 1.5051 - accuracy: 0.4473 - val_loss: 1.4584 - val_accuracy: 0.4565 - lr: 0.0010\n",
      "Epoch 15/30\n",
      "245/245 [==============================] - 524s 2s/step - loss: 1.4856 - accuracy: 0.4519 - val_loss: 1.4661 - val_accuracy: 0.4586 - lr: 0.0010\n",
      "Epoch 16/30\n",
      "245/245 [==============================] - 525s 2s/step - loss: 1.4965 - accuracy: 0.4483 - val_loss: 1.4316 - val_accuracy: 0.4673 - lr: 0.0010\n",
      "Epoch 17/30\n",
      "245/245 [==============================] - 527s 2s/step - loss: 1.4871 - accuracy: 0.4487 - val_loss: 1.4510 - val_accuracy: 0.4617 - lr: 0.0010\n",
      "Epoch 18/30\n",
      "245/245 [==============================] - 526s 2s/step - loss: 1.4821 - accuracy: 0.4575 - val_loss: 1.4495 - val_accuracy: 0.4571 - lr: 0.0010\n",
      "Epoch 19/30\n",
      "245/245 [==============================] - 526s 2s/step - loss: 1.4946 - accuracy: 0.4468 - val_loss: 1.4508 - val_accuracy: 0.4565 - lr: 0.0010\n",
      "Epoch 20/30\n",
      "245/245 [==============================] - 526s 2s/step - loss: 1.4874 - accuracy: 0.4467 - val_loss: 1.4371 - val_accuracy: 0.4611 - lr: 0.0010\n",
      "Epoch 20: early stopping\n"
     ]
    }
   ],
   "source": [
    "model.compile(loss=CategoricalCrossentropy(), optimizer=Adam(learning_rate=0.001), metrics=['accuracy'])\n",
    "\n",
    "history = model.fit(X_train, y_train,\n",
    "                    epochs = NUM_OF_EPOCHES,\n",
    "                    verbose = 1,\n",
    "                    validation_split=0.2,\n",
    "                    callbacks=callbacks\n",
    "                    )"
   ]
  },
  {
   "cell_type": "code",
   "execution_count": 31,
   "id": "1aae16ca",
   "metadata": {
    "id": "1aae16ca"
   },
   "outputs": [],
   "source": [
    "def plot_acc_loss(history, num_of_epochs):\n",
    "    plt.figure(figsize=(10, 4))\n",
    "\n",
    "    plt.subplot(1, 2, 1)\n",
    "    plt.title('Loss')\n",
    "    plt.plot(np.arange(0, num_of_epochs), history.history['loss'], label='train')\n",
    "    plt.plot(np.arange(0, num_of_epochs), history.history['val_loss'], label='val')\n",
    "    plt.legend(loc='best')\n",
    "\n",
    "    plt.subplot(1, 2, 2)\n",
    "    plt.title('Accuracy')\n",
    "    plt.plot(np.arange(0, num_of_epochs), history.history['accuracy'], label='train')\n",
    "    plt.plot(np.arange(0, num_of_epochs), history.history['val_accuracy'], label='val')\n",
    "    plt.legend(loc='best')\n",
    "\n",
    "    plt.show()"
   ]
  },
  {
   "cell_type": "code",
   "execution_count": 39,
   "id": "887e0f05",
   "metadata": {
    "id": "887e0f05"
   },
   "outputs": [],
   "source": [
    "def evaluate_model(model,x_test,y_test,classes_names,conf_matrix_name):\n",
    "    score = model.evaluate(x_test, y_test, verbose=1)\n",
    "    print('Test loss:', score[0])\n",
    "    print('Test accuracy:', score[1])\n",
    "    \n",
    "    y_predicted = model.predict(x_test)\n",
    "    y_predicted_classes = np.argmax(y_predicted, axis = 1)\n",
    "    y_test_classes = np.argmax(y_test, axis = 1)\n",
    "    \n",
    "    conf_mat = confusion_matrix(y_test_classes, y_predicted_classes)\n",
    "    \n",
    "    print(conf_mat)\n",
    "    \n",
    "    report = classification_report(y_test_classes, y_predicted_classes)\n",
    "    print(report)\n",
    "    \n",
    "    \n",
    "    y_predicted_classes.shape, y_test_classes.shape"
   ]
  },
  {
   "cell_type": "code",
   "execution_count": 33,
   "id": "ae198b27",
   "metadata": {
    "id": "ae198b27"
   },
   "outputs": [
    {
     "data": {
      "image/png": "[encoded data removed]",
      "text/plain": [
       "<Figure size 720x288 with 2 Axes>"
      ]
     },
     "metadata": {
      "needs_background": "light"
     },
     "output_type": "display_data"
    }
   ],
   "source": [
    "plot_acc_loss(history, 20)"
   ]
  }
 ],
 "metadata": {
  "accelerator": "GPU",
  "colab": {
   "provenance": []
  },
  "gpuClass": "standard",
  "kernelspec": {
   "display_name": "Python 3 (ipykernel)",
   "language": "python",
   "name": "python3"
  },
  "language_info": {
   "codemirror_mode": {
    "name": "ipython",
    "version": 3
   },
   "file_extension": ".py",
   "mimetype": "text/x-python",
   "name": "python",
   "nbconvert_exporter": "python",
   "pygments_lexer": "ipython3",
   "version": "3.8.10"
  }
 },
 "nbformat": 4,
 "nbformat_minor": 5
}
